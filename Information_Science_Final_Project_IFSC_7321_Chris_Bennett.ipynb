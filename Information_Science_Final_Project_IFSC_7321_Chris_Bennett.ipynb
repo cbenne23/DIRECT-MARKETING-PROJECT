{
 "cells": [
  {
   "cell_type": "markdown",
   "metadata": {},
   "source": [
    "\n",
    "<hr />\n",
    "\n",
    "<center><h1>Information Science: Principles and Theory - IFSC 7321-9U1</h1></center>\n",
    "<center><h2>Machine Learning Project in Python</h2></center><br />\n",
    "<center><h4>Presented by:</h4></center>\n",
    "<center><em>Christopher S. Bennett</em></center><br />\n",
    "<center><h4>Professor:</h4></center>\n",
    "<center><em>Dr. Xiaowei Xu </em></center><br />\n",
    "<center><h4>Teaching Assistant:</h4></center>\n",
    "<center><em>Bi Foua </em></center><br />\n",
    "<center><em>University of Arkansas Little Rock </em></center>\n",
    "<center><em>Department of Information Science </em></center>\n",
    "<center><em>Donaghey College of Science,Technology, Engineering, and Mathematics </em></center>\n",
    "<center><em>Spring 2021 Semester</em></center>\n",
    "\n",
    "<hr />\n"
   ]
  },
  {
   "cell_type": "markdown",
   "metadata": {},
   "source": [
    "## Overview\n",
    "\n",
    "This tutorial provides a comprehensive walk-through of the end-to-end pipeline or workflow for building machine-learning models for a classification problem, using Python. The dataset used in this machine-learning project was accessed from the [UCI Machine Learning Repository](https://archive.ics.uci.edu/ml/datasets/Bank+Marketing).\n",
    "This step-by-step tutorial you will follow the classical modeling workflow:\n",
    "* Define Problem.\n",
    "* Prepare Data.\n",
    "* Evaluate Algorithms.\n",
    "* Improve Results.\n",
    "* Present Findings.\n",
    "\n",
    "This notebook is organized around the following 6 sections:\n",
    "1. Section 1 : Data Importation and Exploration\n",
    "2. Section 2 : Feature Engineering\n",
    "3. Section 3 : Feature Selection\n",
    "4. Section 4 : Find the best feature set using the Random Forest Algorithm\n",
    "5. Section 5 : Build 10 Competing Models\n",
    "6. Section 6 : Make Predictions and Evaluate Models\n",
    "\n",
    "#### Problem Definition and Data Description\n",
    "The modeling problem upon which the tutorial is based is drawn from the `Marketing Analytics` domain, specifically `direct marketing`. The data is related to direct marketing campaigns of a Portuguese banking institution. The modeling problem is of the classification variety and attempts to estimate the likelihood of a client subscribing(opening) to a term deposit. The marketing campaigns were based on phone calls. Often, more than one contact to the same client was required, in order to access if the product (bank term deposit) would be ('yes') or not ('no') subscribed. A detailed description(data dictionary or meta data) of the data used in this project may be found [here](https://archive.ics.uci.edu/ml/datasets/Bank+Marketing).\n",
    "\n"
   ]
  },
  {
   "cell_type": "markdown",
   "metadata": {},
   "source": [
    "## Section 1 : Data Importation and Exploration"
   ]
  },
  {
   "cell_type": "markdown",
   "metadata": {},
   "source": [
    "#### 1.1 Importing key python libraries"
   ]
  },
  {
   "cell_type": "code",
   "execution_count": 1,
   "metadata": {},
   "outputs": [],
   "source": [
    "import os\n",
    "# to handle datasets\n",
    "import pandas as pd\n",
    "import numpy as np\n",
    "from collections import Counter\n",
    "#from imblearn.datasets import fetch_datasets\n",
    "\n",
    "# for text / string processing\n",
    "import re\n",
    "\n",
    "# for plotting\n",
    "import matplotlib.pyplot as plt\n",
    "#% matplotlib inline\n",
    "%matplotlib inline\n",
    "\n",
    "#from pandas.tools.plotting import scatter_matrix\n",
    "from pandas.plotting import scatter_matrix\n",
    "import seaborn as sns\n",
    "sns.set_color_codes()\n",
    "sns.set(font_scale=1.25)\n",
    "from matplotlib import pyplot\n",
    "\n",
    "# for Q-Q plots\n",
    "import scipy.stats as stats\n",
    "\n",
    "# to divide train and test set\n",
    "from sklearn.model_selection import train_test_split\n",
    "\n",
    "# feature scaling\n",
    "from sklearn.preprocessing import MinMaxScaler\n",
    "\n",
    "# for tree binarisation\n",
    "from sklearn.tree import DecisionTreeClassifier\n",
    "from sklearn.model_selection import cross_val_score\n",
    "from sklearn.model_selection import StratifiedKFold\n",
    "\n",
    "\n",
    "# to build the models\n",
    "from sklearn.linear_model import LogisticRegression\n",
    "from sklearn.discriminant_analysis import LinearDiscriminantAnalysis\n",
    "from sklearn.ensemble import AdaBoostClassifier\n",
    "from sklearn.ensemble import RandomForestClassifier\n",
    "import xgboost as xgb\n",
    "\n",
    "# for feature engineering\n",
    "from feature_engine.imputation import MeanMedianImputer\n",
    "\n",
    "from feature_engine import imputation as mdi\n",
    "from feature_engine import discretisation as dsc\n",
    "from feature_engine import encoding as ce\n",
    "from feature_engine.outliers import Winsorizer\n",
    "\n",
    "# Fitting SVM to the Training set\n",
    "from sklearn.svm import SVC\n",
    "\n",
    "# to evaluate the models\n",
    "from sklearn.metrics import roc_auc_score\n",
    "from sklearn import metrics\n",
    "from sklearn.metrics import roc_curve, auc\n",
    "from sklearn.metrics import accuracy_score\n",
    "\n",
    "# Fitting Naive Bayes to the Training set\n",
    "from sklearn.naive_bayes import GaussianNB\n",
    "\n",
    "# Fitting Neural Net to the Training set\n",
    "from sklearn.neural_network import MLPClassifier\n",
    "\n",
    "# Fitting K-Nearest Neighor  to the Training set\n",
    "from sklearn.neighbors import KNeighborsClassifier\n",
    "\n",
    "# Fitting Classification and Regression Trees  to the Training set\n",
    "from sklearn.tree import DecisionTreeClassifier\n",
    "\n",
    "#Classification Matrix\n",
    "from sklearn.metrics import classification_report,confusion_matrix\n",
    "#from imblearn.over_sampling import SMOTE\n",
    "\n",
    "from sklearn.metrics import (\n",
    "    precision_score,\n",
    "    recall_score,\n",
    "    f1_score,\n",
    ")\n",
    "\n",
    "from yellowbrick.classifier import (\n",
    "    ClassificationReport,\n",
    "    DiscriminationThreshold,\n",
    ")\n",
    "\n",
    "#from imblearn.datasets import fetch_datasets\n",
    "\n",
    "from imblearn.under_sampling import EditedNearestNeighbours, TomekLinks\n",
    "\n",
    "\n",
    "from imblearn.over_sampling import (\n",
    "    SMOTE,\n",
    "    BorderlineSMOTE,\n",
    "    SVMSMOTE,\n",
    ")\n",
    "\n",
    "from imblearn.combine import SMOTEENN, SMOTETomek\n",
    "\n",
    "pd.pandas.set_option('display.max_columns', None)\n",
    "from sklearn.feature_selection import VarianceThreshold\n",
    "from sklearn.preprocessing import StandardScaler\n",
    "from sklearn.feature_selection import SelectFromModel\n",
    "\n",
    "import warnings\n",
    "warnings.filterwarnings('ignore')"
   ]
  },
  {
   "cell_type": "markdown",
   "metadata": {},
   "source": [
    "#### 1.2 Changing working directory, loading and exploring the dataset"
   ]
  },
  {
   "cell_type": "code",
   "execution_count": 2,
   "metadata": {},
   "outputs": [
    {
     "data": {
      "text/plain": [
       "'C:\\\\Users\\\\ChrisB'"
      ]
     },
     "execution_count": 2,
     "metadata": {},
     "output_type": "execute_result"
    }
   ],
   "source": [
    "# Checking the working directory\n",
    "os.getcwd()"
   ]
  },
  {
   "cell_type": "code",
   "execution_count": 3,
   "metadata": {},
   "outputs": [
    {
     "data": {
      "text/plain": [
       "'C:\\\\Users\\\\ChrisB\\\\Documents\\\\ALL_DOCUMENTS\\\\UALR\\\\SPRING_SEMESTER2021\\\\INFO SCIENCE_PRIN AND THEORY\\\\PROJECT\\\\bank'"
      ]
     },
     "execution_count": 3,
     "metadata": {},
     "output_type": "execute_result"
    }
   ],
   "source": [
    "# Changing the working directory on Windows:\n",
    "os.chdir(r'C:\\Users\\ChrisB\\Documents\\ALL_DOCUMENTS\\UALR\\SPRING_SEMESTER2021\\INFO SCIENCE_PRIN AND THEORY\\PROJECT\\bank')\n",
    "os.getcwd()"
   ]
  },
  {
   "cell_type": "code",
   "execution_count": 4,
   "metadata": {},
   "outputs": [],
   "source": [
    "# Load in data\n",
    "data=pd.read_csv('bank-full.csv',sep=';') "
   ]
  },
  {
   "cell_type": "code",
   "execution_count": 5,
   "metadata": {},
   "outputs": [
    {
     "data": {
      "text/plain": [
       "(45211, 17)"
      ]
     },
     "execution_count": 5,
     "metadata": {},
     "output_type": "execute_result"
    }
   ],
   "source": [
    "# Examine the dimensions of the data\n",
    "data.shape"
   ]
  },
  {
   "cell_type": "markdown",
   "metadata": {},
   "source": [
    "The dataset contains **45211** rows and **17** columns"
   ]
  },
  {
   "cell_type": "code",
   "execution_count": 6,
   "metadata": {},
   "outputs": [
    {
     "data": {
      "text/html": [
       "<div>\n",
       "<style scoped>\n",
       "    .dataframe tbody tr th:only-of-type {\n",
       "        vertical-align: middle;\n",
       "    }\n",
       "\n",
       "    .dataframe tbody tr th {\n",
       "        vertical-align: top;\n",
       "    }\n",
       "\n",
       "    .dataframe thead th {\n",
       "        text-align: right;\n",
       "    }\n",
       "</style>\n",
       "<table border=\"1\" class=\"dataframe\">\n",
       "  <thead>\n",
       "    <tr style=\"text-align: right;\">\n",
       "      <th></th>\n",
       "      <th>age</th>\n",
       "      <th>job</th>\n",
       "      <th>marital</th>\n",
       "      <th>education</th>\n",
       "      <th>default</th>\n",
       "      <th>balance</th>\n",
       "      <th>housing</th>\n",
       "      <th>loan</th>\n",
       "      <th>contact</th>\n",
       "      <th>day</th>\n",
       "      <th>month</th>\n",
       "      <th>duration</th>\n",
       "      <th>campaign</th>\n",
       "      <th>pdays</th>\n",
       "      <th>previous</th>\n",
       "      <th>poutcome</th>\n",
       "      <th>y</th>\n",
       "    </tr>\n",
       "  </thead>\n",
       "  <tbody>\n",
       "    <tr>\n",
       "      <th>0</th>\n",
       "      <td>58</td>\n",
       "      <td>management</td>\n",
       "      <td>married</td>\n",
       "      <td>tertiary</td>\n",
       "      <td>no</td>\n",
       "      <td>2143</td>\n",
       "      <td>yes</td>\n",
       "      <td>no</td>\n",
       "      <td>unknown</td>\n",
       "      <td>5</td>\n",
       "      <td>may</td>\n",
       "      <td>261</td>\n",
       "      <td>1</td>\n",
       "      <td>-1</td>\n",
       "      <td>0</td>\n",
       "      <td>unknown</td>\n",
       "      <td>no</td>\n",
       "    </tr>\n",
       "    <tr>\n",
       "      <th>1</th>\n",
       "      <td>44</td>\n",
       "      <td>technician</td>\n",
       "      <td>single</td>\n",
       "      <td>secondary</td>\n",
       "      <td>no</td>\n",
       "      <td>29</td>\n",
       "      <td>yes</td>\n",
       "      <td>no</td>\n",
       "      <td>unknown</td>\n",
       "      <td>5</td>\n",
       "      <td>may</td>\n",
       "      <td>151</td>\n",
       "      <td>1</td>\n",
       "      <td>-1</td>\n",
       "      <td>0</td>\n",
       "      <td>unknown</td>\n",
       "      <td>no</td>\n",
       "    </tr>\n",
       "    <tr>\n",
       "      <th>2</th>\n",
       "      <td>33</td>\n",
       "      <td>entrepreneur</td>\n",
       "      <td>married</td>\n",
       "      <td>secondary</td>\n",
       "      <td>no</td>\n",
       "      <td>2</td>\n",
       "      <td>yes</td>\n",
       "      <td>yes</td>\n",
       "      <td>unknown</td>\n",
       "      <td>5</td>\n",
       "      <td>may</td>\n",
       "      <td>76</td>\n",
       "      <td>1</td>\n",
       "      <td>-1</td>\n",
       "      <td>0</td>\n",
       "      <td>unknown</td>\n",
       "      <td>no</td>\n",
       "    </tr>\n",
       "    <tr>\n",
       "      <th>3</th>\n",
       "      <td>47</td>\n",
       "      <td>blue-collar</td>\n",
       "      <td>married</td>\n",
       "      <td>unknown</td>\n",
       "      <td>no</td>\n",
       "      <td>1506</td>\n",
       "      <td>yes</td>\n",
       "      <td>no</td>\n",
       "      <td>unknown</td>\n",
       "      <td>5</td>\n",
       "      <td>may</td>\n",
       "      <td>92</td>\n",
       "      <td>1</td>\n",
       "      <td>-1</td>\n",
       "      <td>0</td>\n",
       "      <td>unknown</td>\n",
       "      <td>no</td>\n",
       "    </tr>\n",
       "    <tr>\n",
       "      <th>4</th>\n",
       "      <td>33</td>\n",
       "      <td>unknown</td>\n",
       "      <td>single</td>\n",
       "      <td>unknown</td>\n",
       "      <td>no</td>\n",
       "      <td>1</td>\n",
       "      <td>no</td>\n",
       "      <td>no</td>\n",
       "      <td>unknown</td>\n",
       "      <td>5</td>\n",
       "      <td>may</td>\n",
       "      <td>198</td>\n",
       "      <td>1</td>\n",
       "      <td>-1</td>\n",
       "      <td>0</td>\n",
       "      <td>unknown</td>\n",
       "      <td>no</td>\n",
       "    </tr>\n",
       "  </tbody>\n",
       "</table>\n",
       "</div>"
      ],
      "text/plain": [
       "   age           job  marital  education default  balance housing loan  \\\n",
       "0   58    management  married   tertiary      no     2143     yes   no   \n",
       "1   44    technician   single  secondary      no       29     yes   no   \n",
       "2   33  entrepreneur  married  secondary      no        2     yes  yes   \n",
       "3   47   blue-collar  married    unknown      no     1506     yes   no   \n",
       "4   33       unknown   single    unknown      no        1      no   no   \n",
       "\n",
       "   contact  day month  duration  campaign  pdays  previous poutcome   y  \n",
       "0  unknown    5   may       261         1     -1         0  unknown  no  \n",
       "1  unknown    5   may       151         1     -1         0  unknown  no  \n",
       "2  unknown    5   may        76         1     -1         0  unknown  no  \n",
       "3  unknown    5   may        92         1     -1         0  unknown  no  \n",
       "4  unknown    5   may       198         1     -1         0  unknown  no  "
      ]
     },
     "execution_count": 6,
     "metadata": {},
     "output_type": "execute_result"
    }
   ],
   "source": [
    "# Examining the first five rows of the dataset\n",
    "data.head()"
   ]
  },
  {
   "cell_type": "code",
   "execution_count": 7,
   "metadata": {},
   "outputs": [
    {
     "data": {
      "text/plain": [
       "Index(['age', 'job', 'marital', 'education', 'default', 'balance', 'housing',\n",
       "       'loan', 'contact', 'day', 'month', 'duration', 'campaign', 'pdays',\n",
       "       'previous', 'poutcome', 'y'],\n",
       "      dtype='object')"
      ]
     },
     "execution_count": 7,
     "metadata": {},
     "output_type": "execute_result"
    }
   ],
   "source": [
    "# Examing the column names of the dataset\n",
    "data.columns"
   ]
  },
  {
   "cell_type": "code",
   "execution_count": 8,
   "metadata": {},
   "outputs": [
    {
     "data": {
      "text/plain": [
       "age           int64\n",
       "job          object\n",
       "marital      object\n",
       "education    object\n",
       "default      object\n",
       "balance       int64\n",
       "housing      object\n",
       "loan         object\n",
       "contact      object\n",
       "day           int64\n",
       "month        object\n",
       "duration      int64\n",
       "campaign      int64\n",
       "pdays         int64\n",
       "previous      int64\n",
       "poutcome     object\n",
       "y            object\n",
       "dtype: object"
      ]
     },
     "execution_count": 8,
     "metadata": {},
     "output_type": "execute_result"
    }
   ],
   "source": [
    "# Inspecting  the type of the variables\n",
    "data.dtypes"
   ]
  },
  {
   "cell_type": "code",
   "execution_count": 9,
   "metadata": {},
   "outputs": [],
   "source": [
    "# Recoding the dependent variable as a binary variable\n",
    "data['y'] = np.where(data['y'] == 'yes',1,0 )"
   ]
  },
  {
   "cell_type": "code",
   "execution_count": 10,
   "metadata": {},
   "outputs": [
    {
     "name": "stdout",
     "output_type": "stream",
     "text": [
      "<class 'pandas.core.frame.DataFrame'>\n",
      "RangeIndex: 45211 entries, 0 to 45210\n",
      "Data columns (total 17 columns):\n",
      " #   Column     Non-Null Count  Dtype \n",
      "---  ------     --------------  ----- \n",
      " 0   age        45211 non-null  int64 \n",
      " 1   job        45211 non-null  object\n",
      " 2   marital    45211 non-null  object\n",
      " 3   education  45211 non-null  object\n",
      " 4   default    45211 non-null  object\n",
      " 5   balance    45211 non-null  int64 \n",
      " 6   housing    45211 non-null  object\n",
      " 7   loan       45211 non-null  object\n",
      " 8   contact    45211 non-null  object\n",
      " 9   day        45211 non-null  int64 \n",
      " 10  month      45211 non-null  object\n",
      " 11  duration   45211 non-null  int64 \n",
      " 12  campaign   45211 non-null  int64 \n",
      " 13  pdays      45211 non-null  int64 \n",
      " 14  previous   45211 non-null  int64 \n",
      " 15  poutcome   45211 non-null  object\n",
      " 16  y          45211 non-null  int32 \n",
      "dtypes: int32(1), int64(7), object(9)\n",
      "memory usage: 5.7+ MB\n"
     ]
    }
   ],
   "source": [
    "#Checking if the change was implemented as expected\n",
    "data.info()"
   ]
  },
  {
   "cell_type": "code",
   "execution_count": 11,
   "metadata": {},
   "outputs": [
    {
     "name": "stdout",
     "output_type": "stream",
     "text": [
      "age [58 44 33 47 35 28 42 43 41 29 53 57 51 45 60 56 32 25 40 39] \n",
      "\n",
      "job ['management' 'technician' 'entrepreneur' 'blue-collar' 'unknown'\n",
      " 'retired' 'admin.' 'services' 'self-employed' 'unemployed' 'housemaid'\n",
      " 'student'] \n",
      "\n",
      "marital ['married' 'single' 'divorced'] \n",
      "\n",
      "education ['tertiary' 'secondary' 'unknown' 'primary'] \n",
      "\n",
      "default ['no' 'yes'] \n",
      "\n",
      "balance [2143   29    2 1506    1  231  447  121  593  270  390    6   71  162\n",
      "  229   13   52   60    0  723] \n",
      "\n",
      "housing ['yes' 'no'] \n",
      "\n",
      "loan ['no' 'yes'] \n",
      "\n",
      "contact ['unknown' 'cellular' 'telephone'] \n",
      "\n",
      "day [ 5  6  7  8  9 12 13 14 15 16 19 20 21 23 26 27 28 29 30  2] \n",
      "\n",
      "month ['may' 'jun' 'jul' 'aug' 'oct' 'nov' 'dec' 'jan' 'feb' 'mar' 'apr' 'sep'] \n",
      "\n",
      "duration [261 151  76  92 198 139 217 380  50  55 222 137 517  71 174 353  98  38\n",
      " 219  54] \n",
      "\n",
      "campaign [ 1  2  3  5  4  6  7  8  9 10 11 12 13 19 14 24 16 32 18 22] \n",
      "\n",
      "pdays [ -1 151 166  91  86 143 147  89 140 176 101 174 170 167 195 165 129 188\n",
      " 196 172] \n",
      "\n",
      "previous [ 0  3  1  4  2 11 16  6  5 10 12  7 18  9 21  8 14 15 26 37] \n",
      "\n",
      "poutcome ['unknown' 'failure' 'other' 'success'] \n",
      "\n",
      "y [0 1] \n",
      "\n"
     ]
    }
   ],
   "source": [
    "# let's inspect the variable values\n",
    "\n",
    "for var in data.columns:\n",
    "    print(var, data[var].unique()[0:20], '\\n')"
   ]
  },
  {
   "cell_type": "code",
   "execution_count": 12,
   "metadata": {},
   "outputs": [],
   "source": [
    "#Dropping meaningless variables that lack useful information for modeling\n",
    "vars_to_be_dropped=['day']\n",
    "for var in vars_to_be_dropped:\n",
    "    data.drop(labels=[var], inplace =True, axis = 1)"
   ]
  },
  {
   "cell_type": "code",
   "execution_count": 13,
   "metadata": {},
   "outputs": [
    {
     "data": {
      "text/plain": [
       "(45211, 16)"
      ]
     },
     "execution_count": 13,
     "metadata": {},
     "output_type": "execute_result"
    }
   ],
   "source": [
    "# Inspecting the shape of  dataset after dropping useless variable\n",
    "data.shape"
   ]
  },
  {
   "cell_type": "code",
   "execution_count": 14,
   "metadata": {},
   "outputs": [
    {
     "data": {
      "text/html": [
       "<div>\n",
       "<style scoped>\n",
       "    .dataframe tbody tr th:only-of-type {\n",
       "        vertical-align: middle;\n",
       "    }\n",
       "\n",
       "    .dataframe tbody tr th {\n",
       "        vertical-align: top;\n",
       "    }\n",
       "\n",
       "    .dataframe thead th {\n",
       "        text-align: right;\n",
       "    }\n",
       "</style>\n",
       "<table border=\"1\" class=\"dataframe\">\n",
       "  <thead>\n",
       "    <tr style=\"text-align: right;\">\n",
       "      <th></th>\n",
       "      <th>age</th>\n",
       "      <th>job</th>\n",
       "      <th>marital</th>\n",
       "      <th>education</th>\n",
       "      <th>default</th>\n",
       "      <th>balance</th>\n",
       "      <th>housing</th>\n",
       "      <th>loan</th>\n",
       "      <th>contact</th>\n",
       "      <th>month</th>\n",
       "      <th>duration</th>\n",
       "      <th>campaign</th>\n",
       "      <th>pdays</th>\n",
       "      <th>previous</th>\n",
       "      <th>poutcome</th>\n",
       "      <th>y</th>\n",
       "    </tr>\n",
       "  </thead>\n",
       "  <tbody>\n",
       "    <tr>\n",
       "      <th>0</th>\n",
       "      <td>58</td>\n",
       "      <td>management</td>\n",
       "      <td>married</td>\n",
       "      <td>tertiary</td>\n",
       "      <td>no</td>\n",
       "      <td>2143</td>\n",
       "      <td>yes</td>\n",
       "      <td>no</td>\n",
       "      <td>unknown</td>\n",
       "      <td>may</td>\n",
       "      <td>261</td>\n",
       "      <td>1</td>\n",
       "      <td>-1</td>\n",
       "      <td>0</td>\n",
       "      <td>unknown</td>\n",
       "      <td>0</td>\n",
       "    </tr>\n",
       "    <tr>\n",
       "      <th>1</th>\n",
       "      <td>44</td>\n",
       "      <td>technician</td>\n",
       "      <td>single</td>\n",
       "      <td>secondary</td>\n",
       "      <td>no</td>\n",
       "      <td>29</td>\n",
       "      <td>yes</td>\n",
       "      <td>no</td>\n",
       "      <td>unknown</td>\n",
       "      <td>may</td>\n",
       "      <td>151</td>\n",
       "      <td>1</td>\n",
       "      <td>-1</td>\n",
       "      <td>0</td>\n",
       "      <td>unknown</td>\n",
       "      <td>0</td>\n",
       "    </tr>\n",
       "    <tr>\n",
       "      <th>2</th>\n",
       "      <td>33</td>\n",
       "      <td>entrepreneur</td>\n",
       "      <td>married</td>\n",
       "      <td>secondary</td>\n",
       "      <td>no</td>\n",
       "      <td>2</td>\n",
       "      <td>yes</td>\n",
       "      <td>yes</td>\n",
       "      <td>unknown</td>\n",
       "      <td>may</td>\n",
       "      <td>76</td>\n",
       "      <td>1</td>\n",
       "      <td>-1</td>\n",
       "      <td>0</td>\n",
       "      <td>unknown</td>\n",
       "      <td>0</td>\n",
       "    </tr>\n",
       "    <tr>\n",
       "      <th>3</th>\n",
       "      <td>47</td>\n",
       "      <td>blue-collar</td>\n",
       "      <td>married</td>\n",
       "      <td>unknown</td>\n",
       "      <td>no</td>\n",
       "      <td>1506</td>\n",
       "      <td>yes</td>\n",
       "      <td>no</td>\n",
       "      <td>unknown</td>\n",
       "      <td>may</td>\n",
       "      <td>92</td>\n",
       "      <td>1</td>\n",
       "      <td>-1</td>\n",
       "      <td>0</td>\n",
       "      <td>unknown</td>\n",
       "      <td>0</td>\n",
       "    </tr>\n",
       "    <tr>\n",
       "      <th>4</th>\n",
       "      <td>33</td>\n",
       "      <td>unknown</td>\n",
       "      <td>single</td>\n",
       "      <td>unknown</td>\n",
       "      <td>no</td>\n",
       "      <td>1</td>\n",
       "      <td>no</td>\n",
       "      <td>no</td>\n",
       "      <td>unknown</td>\n",
       "      <td>may</td>\n",
       "      <td>198</td>\n",
       "      <td>1</td>\n",
       "      <td>-1</td>\n",
       "      <td>0</td>\n",
       "      <td>unknown</td>\n",
       "      <td>0</td>\n",
       "    </tr>\n",
       "  </tbody>\n",
       "</table>\n",
       "</div>"
      ],
      "text/plain": [
       "   age           job  marital  education default  balance housing loan  \\\n",
       "0   58    management  married   tertiary      no     2143     yes   no   \n",
       "1   44    technician   single  secondary      no       29     yes   no   \n",
       "2   33  entrepreneur  married  secondary      no        2     yes  yes   \n",
       "3   47   blue-collar  married    unknown      no     1506     yes   no   \n",
       "4   33       unknown   single    unknown      no        1      no   no   \n",
       "\n",
       "   contact month  duration  campaign  pdays  previous poutcome  y  \n",
       "0  unknown   may       261         1     -1         0  unknown  0  \n",
       "1  unknown   may       151         1     -1         0  unknown  0  \n",
       "2  unknown   may        76         1     -1         0  unknown  0  \n",
       "3  unknown   may        92         1     -1         0  unknown  0  \n",
       "4  unknown   may       198         1     -1         0  unknown  0  "
      ]
     },
     "execution_count": 14,
     "metadata": {},
     "output_type": "execute_result"
    }
   ],
   "source": [
    "# Inspecting the first five rows of the dataset after dropping useless variable\n",
    "data.head()"
   ]
  },
  {
   "cell_type": "code",
   "execution_count": 15,
   "metadata": {},
   "outputs": [
    {
     "name": "stdout",
     "output_type": "stream",
     "text": [
      "0    0.883015\n",
      "1    0.116985\n",
      "Name: y, dtype: float64\n"
     ]
    }
   ],
   "source": [
    "# Exploring the distribution of the records among the categories of the outcome variable in absolute value\n",
    "print((data['y'].value_counts())/len(data))"
   ]
  },
  {
   "cell_type": "markdown",
   "metadata": {},
   "source": [
    "As is evidenced above, only **12%** of the cases are responders ( i.e. opened a term deposit account); the majority (**88%**) are non-responders.\n",
    "This is an unbalanced dataset and may affect the ability to achieve optimal model performance; therefore, we will be exploring various techniques for remeding this issue.\n",
    "A description of techniques for treating `unbalanced dataset` may be found [here](https://www.analyticsvidhya.com/blog/2020/10/overcoming-class-imbalance-using-smote-techniques/)."
   ]
  },
  {
   "cell_type": "code",
   "execution_count": 16,
   "metadata": {},
   "outputs": [
    {
     "name": "stdout",
     "output_type": "stream",
     "text": [
      "There are 0 discrete variables\n",
      "There are 6 continuous variables\n",
      "There are 9 categorical variables\n"
     ]
    }
   ],
   "source": [
    "# Screening the data for continuous, discrete and categorical variables \n",
    "# make list of variables  types\n",
    "\n",
    "# numerical: discrete vs continuous\n",
    "discrete = [var for var in data.columns if data[var].dtype!='O' and var!='y' and data[var].nunique()<10]\n",
    "continuous = [var for var in data.columns if data[var].dtype!='O' and var!='y' and var not in discrete]\n",
    "\n",
    "# categorical\n",
    "categorical = [var for var in data.columns if data[var].dtype=='O']\n",
    "\n",
    "print('There are {} discrete variables'.format(len(discrete)))\n",
    "print('There are {} continuous variables'.format(len(continuous)))\n",
    "print('There are {} categorical variables'.format(len(categorical)))"
   ]
  },
  {
   "cell_type": "code",
   "execution_count": 17,
   "metadata": {},
   "outputs": [
    {
     "data": {
      "text/plain": [
       "['age', 'balance', 'duration', 'campaign', 'pdays', 'previous']"
      ]
     },
     "execution_count": 17,
     "metadata": {},
     "output_type": "execute_result"
    }
   ],
   "source": [
    "# Examining continuous variables\n",
    "continuous"
   ]
  },
  {
   "cell_type": "code",
   "execution_count": 18,
   "metadata": {
    "scrolled": true
   },
   "outputs": [
    {
     "data": {
      "text/plain": [
       "['job',\n",
       " 'marital',\n",
       " 'education',\n",
       " 'default',\n",
       " 'housing',\n",
       " 'loan',\n",
       " 'contact',\n",
       " 'month',\n",
       " 'poutcome']"
      ]
     },
     "execution_count": 18,
     "metadata": {},
     "output_type": "execute_result"
    }
   ],
   "source": [
    "# Examiningcategorical variables\n",
    "categorical"
   ]
  },
  {
   "cell_type": "markdown",
   "metadata": {},
   "source": [
    "#### 1.3 Exploring missing values"
   ]
  },
  {
   "cell_type": "code",
   "execution_count": 19,
   "metadata": {},
   "outputs": [],
   "source": [
    "# let's visualise the percentage of missing values in the  dataset\n",
    "for var in data.columns:\n",
    "    if data[var].isnull().sum()>0:\n",
    "        print(var, data[var].isnull().mean())"
   ]
  },
  {
   "cell_type": "markdown",
   "metadata": {},
   "source": [
    "Remarkably, there are no cases with missing values in the dataset."
   ]
  },
  {
   "cell_type": "markdown",
   "metadata": {},
   "source": [
    "#### 1.4 Outliers"
   ]
  },
  {
   "cell_type": "markdown",
   "metadata": {},
   "source": [
    "##### 1.41 Outliers in discrete variables\n",
    "\n",
    "There are no discrete variables in the dataset. However, for discrete variables, outliers those values that are present in less than <strong>1%</strong> of the the cases. This is exactly the same as finding rare labels in categorical variables. Discrete variables, in essence, can be pre-processed / engineered as if they were categorical. Keep this in mind."
   ]
  },
  {
   "cell_type": "code",
   "execution_count": 20,
   "metadata": {},
   "outputs": [
    {
     "name": "stdout",
     "output_type": "stream",
     "text": [
      "job  values:  ['management' 'technician' 'entrepreneur' 'blue-collar' 'unknown'\n",
      " 'retired' 'admin.' 'services' 'self-employed' 'unemployed' 'housemaid'\n",
      " 'student']\n",
      "marital  values:  ['married' 'single' 'divorced']\n",
      "education  values:  ['tertiary' 'secondary' 'unknown' 'primary']\n",
      "default  values:  ['no' 'yes']\n",
      "housing  values:  ['yes' 'no']\n",
      "loan  values:  ['no' 'yes']\n",
      "contact  values:  ['unknown' 'cellular' 'telephone']\n",
      "month  values:  ['may' 'jun' 'jul' 'aug' 'oct' 'nov' 'dec' 'jan' 'feb' 'mar' 'apr' 'sep']\n",
      "poutcome  values:  ['unknown' 'failure' 'other' 'success']\n"
     ]
    }
   ],
   "source": [
    "# let's visualise the values/labels of the categorical  variables\n",
    "for var in data[categorical].columns:\n",
    "    print(var, ' values: ', data[var].unique())"
   ]
  },
  {
   "cell_type": "code",
   "execution_count": 21,
   "metadata": {},
   "outputs": [
    {
     "name": "stdout",
     "output_type": "stream",
     "text": [
      "1     0.388047\n",
      "2     0.276592\n",
      "3     0.122116\n",
      "4     0.077901\n",
      "5     0.039017\n",
      "6     0.028555\n",
      "7     0.016257\n",
      "8     0.011944\n",
      "9     0.007233\n",
      "10    0.005884\n",
      "11    0.004446\n",
      "12    0.003428\n",
      "13    0.002942\n",
      "14    0.002057\n",
      "15    0.001858\n",
      "16    0.001747\n",
      "17    0.001526\n",
      "18    0.001128\n",
      "19    0.000973\n",
      "20    0.000951\n",
      "21    0.000774\n",
      "22    0.000509\n",
      "23    0.000487\n",
      "25    0.000487\n",
      "24    0.000442\n",
      "28    0.000354\n",
      "29    0.000354\n",
      "26    0.000288\n",
      "31    0.000265\n",
      "27    0.000221\n",
      "32    0.000199\n",
      "30    0.000177\n",
      "33    0.000133\n",
      "34    0.000111\n",
      "36    0.000088\n",
      "35    0.000088\n",
      "43    0.000066\n",
      "38    0.000066\n",
      "41    0.000044\n",
      "50    0.000044\n",
      "37    0.000044\n",
      "51    0.000022\n",
      "55    0.000022\n",
      "46    0.000022\n",
      "58    0.000022\n",
      "44    0.000022\n",
      "39    0.000022\n",
      "63    0.000022\n",
      "Name: campaign, dtype: float64\n"
     ]
    }
   ],
   "source": [
    "# Exploring the distribution of the cases/observations among the categories of the campaign variable in relative terms\n",
    "print((data['campaign'].value_counts())/len(data))"
   ]
  },
  {
   "cell_type": "markdown",
   "metadata": {},
   "source": [
    "The `campaign` variable  will also be treated as a discrete variable and will be capped at `level 10` of this variable; since all other levels beyond this level are represented in less than **1%** of the observations."
   ]
  },
  {
   "cell_type": "code",
   "execution_count": 22,
   "metadata": {},
   "outputs": [
    {
     "name": "stdout",
     "output_type": "stream",
     "text": [
      "-1      0.817367\n",
      " 182    0.003694\n",
      " 92     0.003251\n",
      " 183    0.002787\n",
      " 91     0.002787\n",
      "          ...   \n",
      " 749    0.000022\n",
      " 717    0.000022\n",
      " 589    0.000022\n",
      " 493    0.000022\n",
      " 32     0.000022\n",
      "Name: pdays, Length: 559, dtype: float64\n"
     ]
    }
   ],
   "source": [
    "# Exploring the distribution of the respondents among the categories of the pdays variable in relative terms\n",
    "print((data['pdays'].value_counts())/len(data))"
   ]
  },
  {
   "cell_type": "markdown",
   "metadata": {},
   "source": [
    "The `pdays` variable is a quazi-constant and will be drop as it contains virtually no predictive value; as indicated above, **81%** of the observations have a value of `-1`\n"
   ]
  },
  {
   "cell_type": "code",
   "execution_count": 23,
   "metadata": {},
   "outputs": [
    {
     "name": "stdout",
     "output_type": "stream",
     "text": [
      "0      0.817367\n",
      "1      0.061313\n",
      "2      0.046582\n",
      "3      0.025259\n",
      "4      0.015793\n",
      "5      0.010152\n",
      "6      0.006127\n",
      "7      0.004534\n",
      "8      0.002853\n",
      "9      0.002035\n",
      "10     0.001482\n",
      "11     0.001438\n",
      "12     0.000973\n",
      "13     0.000841\n",
      "15     0.000442\n",
      "14     0.000420\n",
      "17     0.000332\n",
      "16     0.000288\n",
      "19     0.000243\n",
      "23     0.000177\n",
      "20     0.000177\n",
      "22     0.000133\n",
      "18     0.000133\n",
      "24     0.000111\n",
      "27     0.000111\n",
      "29     0.000088\n",
      "25     0.000088\n",
      "21     0.000088\n",
      "30     0.000066\n",
      "28     0.000044\n",
      "26     0.000044\n",
      "37     0.000044\n",
      "38     0.000044\n",
      "55     0.000022\n",
      "40     0.000022\n",
      "35     0.000022\n",
      "58     0.000022\n",
      "51     0.000022\n",
      "41     0.000022\n",
      "32     0.000022\n",
      "275    0.000022\n",
      "Name: previous, dtype: float64\n"
     ]
    }
   ],
   "source": [
    "# Exploring the distribution of the respondents among the categories of the previous variable in relative terms\n",
    "print((data['previous'].value_counts())/len(data))"
   ]
  },
  {
   "cell_type": "markdown",
   "metadata": {},
   "source": [
    " The `previous` variable will be treated as  a discrete variable and will be capped at `level 6` of this variable; since all levels of this variable beyond `level 6` are represented in less than **1%** of the cases or observations.\n"
   ]
  },
  {
   "cell_type": "code",
   "execution_count": 24,
   "metadata": {},
   "outputs": [
    {
     "name": "stdout",
     "output_type": "stream",
     "text": [
      "124     0.004158\n",
      "90      0.004070\n",
      "89      0.003915\n",
      "122     0.003871\n",
      "104     0.003871\n",
      "          ...   \n",
      "2150    0.000022\n",
      "1970    0.000022\n",
      "1906    0.000022\n",
      "1842    0.000022\n",
      "2015    0.000022\n",
      "Name: duration, Length: 1573, dtype: float64\n"
     ]
    }
   ],
   "source": [
    "# Exploring the distribution of the cases among the categories of the duration variable in relative terms\n",
    "print((data['duration'].value_counts())/len(data))"
   ]
  },
  {
   "cell_type": "markdown",
   "metadata": {},
   "source": [
    "##### 1.5 Number of labels: cardinality"
   ]
  },
  {
   "cell_type": "code",
   "execution_count": 25,
   "metadata": {},
   "outputs": [
    {
     "name": "stdout",
     "output_type": "stream",
     "text": [
      "job  contains  12  labels\n",
      "marital  contains  3  labels\n",
      "education  contains  4  labels\n",
      "default  contains  2  labels\n",
      "housing  contains  2  labels\n",
      "loan  contains  2  labels\n",
      "contact  contains  3  labels\n",
      "month  contains  12  labels\n",
      "poutcome  contains  4  labels\n"
     ]
    }
   ],
   "source": [
    "# Examining the number of labels/categories per categorical variable\n",
    "for var in categorical:\n",
    "    print(var, ' contains ', len(data[var].unique()), ' labels')"
   ]
  },
  {
   "cell_type": "code",
   "execution_count": 26,
   "metadata": {},
   "outputs": [
    {
     "data": {
      "text/plain": [
       "Text(0, 0.5, 'Number of different categories')"
      ]
     },
     "execution_count": 26,
     "metadata": {},
     "output_type": "execute_result"
    },
    {
     "data": {
      "image/png": "[encoded data removed]",
      "text/plain": [
       "<Figure size 720x432 with 1 Axes>"
      ]
     },
     "metadata": {
      "needs_background": "light"
     },
     "output_type": "display_data"
    }
   ],
   "source": [
    "# plot number of categories per categorical variable\n",
    "\n",
    "data[categorical].nunique().plot.bar(figsize=(10,6))\n",
    "plt.title('CARDINALITY: Number of categories in categorical variables')\n",
    "plt.xlabel('Categorical variables')\n",
    "plt.ylabel('Number of different categories')"
   ]
  },
  {
   "cell_type": "markdown",
   "metadata": {},
   "source": [
    "**Note** : 6 variables have cardinality greater than 2"
   ]
  },
  {
   "cell_type": "code",
   "execution_count": 27,
   "metadata": {},
   "outputs": [],
   "source": [
    "# function to create histogram, Q-Q plot and\n",
    "# boxplot.\n",
    "def diagnostic_plots(df, variable):\n",
    "    # function takes a dataframe (df) and\n",
    "    # the variable of interest as arguments\n",
    "\n",
    "    # define figure size\n",
    "    plt.figure(figsize=(16, 4))\n",
    "\n",
    "    # histogram\n",
    "    plt.subplot(1, 3, 1)\n",
    "    sns.histplot(df[variable], bins=30)\n",
    "    plt.title('Histogram')\n",
    "\n",
    "    # Q-Q plot\n",
    "    plt.subplot(1, 3, 2)\n",
    "    stats.probplot(df[variable], dist=\"norm\", plot=plt)\n",
    "    plt.ylabel('Variable quantiles')\n",
    "\n",
    "    # boxplot\n",
    "    plt.subplot(1, 3, 3)\n",
    "    sns.boxplot(y=df[variable])\n",
    "    plt.title('Boxplot')\n",
    "\n",
    "    plt.show()"
   ]
  },
  {
   "cell_type": "markdown",
   "metadata": {},
   "source": [
    "## Section 2 : Feature Engineering"
   ]
  },
  {
   "cell_type": "markdown",
   "metadata": {},
   "source": [
    "We now transition to another important phase of the machine-learning process: `feature engineering`. A feature is another name for a variable.\n",
    "The term feature engineering denotes the process of [\"using domain knowledge to extract features from raw data\"](https://en.wikipedia.org/wiki/Feature_engineering).\n",
    " It also refers to the process of transforming variables to render them more suitable for machine-learning algorithms, including, but limited to, imputing missing values, addressing outliers or extreme values and recoding categorical variables into numerical variables(most machine-learning algorithms cannot deal with qualitative  variables and so they have to be converted to numerical variables). "
   ]
  },
  {
   "cell_type": "markdown",
   "metadata": {},
   "source": [
    "#### 2.1 Dropping meaningless variables"
   ]
  },
  {
   "cell_type": "code",
   "execution_count": 28,
   "metadata": {},
   "outputs": [],
   "source": [
    "#Dropping quazi-constant variable pday that lack useful information for modeling\n",
    "#for df in [X_train,X_test]:\n",
    " #   df.drop(labels=[\"pdays\"], inplace =True, axis = 1)"
   ]
  },
  {
   "cell_type": "code",
   "execution_count": 29,
   "metadata": {},
   "outputs": [],
   "source": [
    "data.drop(labels=[\"pdays\"], inplace =True, axis = 1)"
   ]
  },
  {
   "cell_type": "code",
   "execution_count": 30,
   "metadata": {},
   "outputs": [
    {
     "data": {
      "text/plain": [
       "(45211, 15)"
      ]
     },
     "execution_count": 30,
     "metadata": {},
     "output_type": "execute_result"
    }
   ],
   "source": [
    "#checking if the change was effected\n",
    "data.shape"
   ]
  },
  {
   "cell_type": "code",
   "execution_count": 31,
   "metadata": {},
   "outputs": [
    {
     "data": {
      "text/html": [
       "<div>\n",
       "<style scoped>\n",
       "    .dataframe tbody tr th:only-of-type {\n",
       "        vertical-align: middle;\n",
       "    }\n",
       "\n",
       "    .dataframe tbody tr th {\n",
       "        vertical-align: top;\n",
       "    }\n",
       "\n",
       "    .dataframe thead th {\n",
       "        text-align: right;\n",
       "    }\n",
       "</style>\n",
       "<table border=\"1\" class=\"dataframe\">\n",
       "  <thead>\n",
       "    <tr style=\"text-align: right;\">\n",
       "      <th></th>\n",
       "      <th>age</th>\n",
       "      <th>job</th>\n",
       "      <th>marital</th>\n",
       "      <th>education</th>\n",
       "      <th>default</th>\n",
       "      <th>balance</th>\n",
       "      <th>housing</th>\n",
       "      <th>loan</th>\n",
       "      <th>contact</th>\n",
       "      <th>month</th>\n",
       "      <th>duration</th>\n",
       "      <th>campaign</th>\n",
       "      <th>previous</th>\n",
       "      <th>poutcome</th>\n",
       "      <th>y</th>\n",
       "    </tr>\n",
       "  </thead>\n",
       "  <tbody>\n",
       "    <tr>\n",
       "      <th>0</th>\n",
       "      <td>58</td>\n",
       "      <td>management</td>\n",
       "      <td>married</td>\n",
       "      <td>tertiary</td>\n",
       "      <td>no</td>\n",
       "      <td>2143</td>\n",
       "      <td>yes</td>\n",
       "      <td>no</td>\n",
       "      <td>unknown</td>\n",
       "      <td>may</td>\n",
       "      <td>261</td>\n",
       "      <td>1</td>\n",
       "      <td>0</td>\n",
       "      <td>unknown</td>\n",
       "      <td>0</td>\n",
       "    </tr>\n",
       "    <tr>\n",
       "      <th>1</th>\n",
       "      <td>44</td>\n",
       "      <td>technician</td>\n",
       "      <td>single</td>\n",
       "      <td>secondary</td>\n",
       "      <td>no</td>\n",
       "      <td>29</td>\n",
       "      <td>yes</td>\n",
       "      <td>no</td>\n",
       "      <td>unknown</td>\n",
       "      <td>may</td>\n",
       "      <td>151</td>\n",
       "      <td>1</td>\n",
       "      <td>0</td>\n",
       "      <td>unknown</td>\n",
       "      <td>0</td>\n",
       "    </tr>\n",
       "    <tr>\n",
       "      <th>2</th>\n",
       "      <td>33</td>\n",
       "      <td>entrepreneur</td>\n",
       "      <td>married</td>\n",
       "      <td>secondary</td>\n",
       "      <td>no</td>\n",
       "      <td>2</td>\n",
       "      <td>yes</td>\n",
       "      <td>yes</td>\n",
       "      <td>unknown</td>\n",
       "      <td>may</td>\n",
       "      <td>76</td>\n",
       "      <td>1</td>\n",
       "      <td>0</td>\n",
       "      <td>unknown</td>\n",
       "      <td>0</td>\n",
       "    </tr>\n",
       "    <tr>\n",
       "      <th>3</th>\n",
       "      <td>47</td>\n",
       "      <td>blue-collar</td>\n",
       "      <td>married</td>\n",
       "      <td>unknown</td>\n",
       "      <td>no</td>\n",
       "      <td>1506</td>\n",
       "      <td>yes</td>\n",
       "      <td>no</td>\n",
       "      <td>unknown</td>\n",
       "      <td>may</td>\n",
       "      <td>92</td>\n",
       "      <td>1</td>\n",
       "      <td>0</td>\n",
       "      <td>unknown</td>\n",
       "      <td>0</td>\n",
       "    </tr>\n",
       "    <tr>\n",
       "      <th>4</th>\n",
       "      <td>33</td>\n",
       "      <td>unknown</td>\n",
       "      <td>single</td>\n",
       "      <td>unknown</td>\n",
       "      <td>no</td>\n",
       "      <td>1</td>\n",
       "      <td>no</td>\n",
       "      <td>no</td>\n",
       "      <td>unknown</td>\n",
       "      <td>may</td>\n",
       "      <td>198</td>\n",
       "      <td>1</td>\n",
       "      <td>0</td>\n",
       "      <td>unknown</td>\n",
       "      <td>0</td>\n",
       "    </tr>\n",
       "  </tbody>\n",
       "</table>\n",
       "</div>"
      ],
      "text/plain": [
       "   age           job  marital  education default  balance housing loan  \\\n",
       "0   58    management  married   tertiary      no     2143     yes   no   \n",
       "1   44    technician   single  secondary      no       29     yes   no   \n",
       "2   33  entrepreneur  married  secondary      no        2     yes  yes   \n",
       "3   47   blue-collar  married    unknown      no     1506     yes   no   \n",
       "4   33       unknown   single    unknown      no        1      no   no   \n",
       "\n",
       "   contact month  duration  campaign  previous poutcome  y  \n",
       "0  unknown   may       261         1         0  unknown  0  \n",
       "1  unknown   may       151         1         0  unknown  0  \n",
       "2  unknown   may        76         1         0  unknown  0  \n",
       "3  unknown   may        92         1         0  unknown  0  \n",
       "4  unknown   may       198         1         0  unknown  0  "
      ]
     },
     "execution_count": 31,
     "metadata": {},
     "output_type": "execute_result"
    }
   ],
   "source": [
    "#checking the first five observations after dropping the pdays variable\n",
    "data.head()"
   ]
  },
  {
   "cell_type": "markdown",
   "metadata": {},
   "source": [
    "#### 2.2 Outliers in Numerical variable"
   ]
  },
  {
   "cell_type": "markdown",
   "metadata": {},
   "source": [
    "- previous: top-coding(6) \n",
    "- campaign: top-coding(10) "
   ]
  },
  {
   "cell_type": "code",
   "execution_count": 32,
   "metadata": {},
   "outputs": [],
   "source": [
    "# Defining functions to implement top-coding\n",
    "def top_code(df, variable, top):\n",
    "    return np.where(df[variable]>top, top, df[variable])\n",
    "\n",
    "for df in [data]:\n",
    "    df['previous'] = top_code(df, 'previous', 6)\n",
    "    df['campaign'] = top_code(df, 'campaign', 10)"
   ]
  },
  {
   "cell_type": "code",
   "execution_count": 33,
   "metadata": {},
   "outputs": [
    {
     "name": "stdout",
     "output_type": "stream",
     "text": [
      "previous  max value:  6\n",
      "campaign  max value:  10\n"
     ]
    }
   ],
   "source": [
    "# let's check that it worked\n",
    "for var in ['previous','campaign']:\n",
    "    print(var, ' max value: ', data[var].max())\n",
    "    #print('\\n')"
   ]
  },
  {
   "cell_type": "code",
   "execution_count": 34,
   "metadata": {},
   "outputs": [],
   "source": [
    "# The two discrete variables are converted to categorical  for feature-engineering purposes\n",
    "for df in [data]:\n",
    "    df['previous'] = df['previous'].astype('O')\n",
    "    df['campaign'] = df['campaign'].astype('O')\n"
   ]
  },
  {
   "cell_type": "code",
   "execution_count": 35,
   "metadata": {},
   "outputs": [
    {
     "data": {
      "text/plain": [
       "age           int64\n",
       "job          object\n",
       "marital      object\n",
       "education    object\n",
       "default      object\n",
       "balance       int64\n",
       "housing      object\n",
       "loan         object\n",
       "contact      object\n",
       "month        object\n",
       "duration      int64\n",
       "campaign     object\n",
       "previous     object\n",
       "poutcome     object\n",
       "y             int32\n",
       "dtype: object"
      ]
     },
     "execution_count": 35,
     "metadata": {},
     "output_type": "execute_result"
    }
   ],
   "source": [
    "# Checking data types are converting the previous and campaign variables to the object type\n",
    "data.dtypes"
   ]
  },
  {
   "cell_type": "code",
   "execution_count": 36,
   "metadata": {},
   "outputs": [
    {
     "name": "stdout",
     "output_type": "stream",
     "text": [
      "There are 0 discrete variables\n",
      "There are 3 continuous variables\n",
      "There are 11 categorical variables\n"
     ]
    }
   ],
   "source": [
    "# Screening the data for continuous and categorical variables again after converting the data types for certain variables (sanity check)\n",
    "# make list of variables  types\n",
    "\n",
    "# numerical: discrete vs continuous\n",
    "discrete = [var for var in data.columns if data[var].dtype!='O' and var!='y' and  data[var].nunique()<10]\n",
    "continuous = [var for var in  data.columns if  data[var].dtype!='O' and var!='y' and var not in discrete]\n",
    "\n",
    "# categorical\n",
    "categorical = [var for var in  data.columns if  data[var].dtype=='O']\n",
    "\n",
    "print('There are {} discrete variables'.format(len(discrete)))\n",
    "print('There are {} continuous variables'.format(len(continuous)))\n",
    "print('There are {} categorical variables'.format(len(categorical)))"
   ]
  },
  {
   "cell_type": "markdown",
   "metadata": {},
   "source": [
    "After conversion, we now have <strong>3</strong> continous variables and <strong>11</strong> categorical variables."
   ]
  },
  {
   "cell_type": "code",
   "execution_count": 37,
   "metadata": {},
   "outputs": [
    {
     "data": {
      "text/plain": [
       "['job',\n",
       " 'marital',\n",
       " 'education',\n",
       " 'default',\n",
       " 'housing',\n",
       " 'loan',\n",
       " 'contact',\n",
       " 'month',\n",
       " 'campaign',\n",
       " 'previous',\n",
       " 'poutcome']"
      ]
     },
     "execution_count": 37,
     "metadata": {},
     "output_type": "execute_result"
    }
   ],
   "source": [
    "# Checking the column or variable names for the categorical variables\n",
    "categorical=categorical \n",
    "categorical"
   ]
  },
  {
   "cell_type": "code",
   "execution_count": 38,
   "metadata": {},
   "outputs": [
    {
     "data": {
      "text/html": [
       "<div>\n",
       "<style scoped>\n",
       "    .dataframe tbody tr th:only-of-type {\n",
       "        vertical-align: middle;\n",
       "    }\n",
       "\n",
       "    .dataframe tbody tr th {\n",
       "        vertical-align: top;\n",
       "    }\n",
       "\n",
       "    .dataframe thead th {\n",
       "        text-align: right;\n",
       "    }\n",
       "</style>\n",
       "<table border=\"1\" class=\"dataframe\">\n",
       "  <thead>\n",
       "    <tr style=\"text-align: right;\">\n",
       "      <th></th>\n",
       "      <th>age</th>\n",
       "      <th>balance</th>\n",
       "      <th>duration</th>\n",
       "    </tr>\n",
       "  </thead>\n",
       "  <tbody>\n",
       "    <tr>\n",
       "      <th>count</th>\n",
       "      <td>45211.000000</td>\n",
       "      <td>45211.000000</td>\n",
       "      <td>45211.000000</td>\n",
       "    </tr>\n",
       "    <tr>\n",
       "      <th>mean</th>\n",
       "      <td>40.936210</td>\n",
       "      <td>1362.272058</td>\n",
       "      <td>258.163080</td>\n",
       "    </tr>\n",
       "    <tr>\n",
       "      <th>std</th>\n",
       "      <td>10.618762</td>\n",
       "      <td>3044.765829</td>\n",
       "      <td>257.527812</td>\n",
       "    </tr>\n",
       "    <tr>\n",
       "      <th>min</th>\n",
       "      <td>18.000000</td>\n",
       "      <td>-8019.000000</td>\n",
       "      <td>0.000000</td>\n",
       "    </tr>\n",
       "    <tr>\n",
       "      <th>25%</th>\n",
       "      <td>33.000000</td>\n",
       "      <td>72.000000</td>\n",
       "      <td>103.000000</td>\n",
       "    </tr>\n",
       "    <tr>\n",
       "      <th>50%</th>\n",
       "      <td>39.000000</td>\n",
       "      <td>448.000000</td>\n",
       "      <td>180.000000</td>\n",
       "    </tr>\n",
       "    <tr>\n",
       "      <th>75%</th>\n",
       "      <td>48.000000</td>\n",
       "      <td>1428.000000</td>\n",
       "      <td>319.000000</td>\n",
       "    </tr>\n",
       "    <tr>\n",
       "      <th>max</th>\n",
       "      <td>95.000000</td>\n",
       "      <td>102127.000000</td>\n",
       "      <td>4918.000000</td>\n",
       "    </tr>\n",
       "  </tbody>\n",
       "</table>\n",
       "</div>"
      ],
      "text/plain": [
       "                age        balance      duration\n",
       "count  45211.000000   45211.000000  45211.000000\n",
       "mean      40.936210    1362.272058    258.163080\n",
       "std       10.618762    3044.765829    257.527812\n",
       "min       18.000000   -8019.000000      0.000000\n",
       "25%       33.000000      72.000000    103.000000\n",
       "50%       39.000000     448.000000    180.000000\n",
       "75%       48.000000    1428.000000    319.000000\n",
       "max       95.000000  102127.000000   4918.000000"
      ]
     },
     "execution_count": 38,
     "metadata": {},
     "output_type": "execute_result"
    }
   ],
   "source": [
    "# Generating summary statistics for the continous variables\n",
    "contin_vars= ['age', 'balance', 'duration']\n",
    "data[contin_vars].describe()"
   ]
  },
  {
   "cell_type": "code",
   "execution_count": 39,
   "metadata": {},
   "outputs": [
    {
     "data": {
      "image/png": "[encoded data removed]",
      "text/plain": [
       "<Figure size 1152x288 with 3 Axes>"
      ]
     },
     "metadata": {
      "needs_background": "light"
     },
     "output_type": "display_data"
    },
    {
     "data": {
      "image/png": "[encoded data removed]",
      "text/plain": [
       "<Figure size 1152x288 with 3 Axes>"
      ]
     },
     "metadata": {
      "needs_background": "light"
     },
     "output_type": "display_data"
    },
    {
     "data": {
      "image/png": "[encoded data removed]",
      "text/plain": [
       "<Figure size 1152x288 with 3 Axes>"
      ]
     },
     "metadata": {
      "needs_background": "light"
     },
     "output_type": "display_data"
    }
   ],
   "source": [
    "# checking the distribution of continous variables after transformation\n",
    "contin_vars= ['age', 'balance', 'duration']\n",
    "for df in [data]:\n",
    "    for var in contin_vars:\n",
    "        diagnostic_plots(df, var)"
   ]
  },
  {
   "cell_type": "markdown",
   "metadata": {},
   "source": [
    "**Age** appears to be near-gaussian/normal in its distribution but does seem to have outliers; this issue will be remedied by capping this variable at the mean plus 3 times the standard deviation.\n",
    "**Duration** and **balance** are clearly skewed and will be remedied by capping this variable above at the `75th Quartile` plus 1.5 times the interquartile range (IQR) and below at the `25th Quartile` minus 1.5 times the interquartile range (IQR)."
   ]
  },
  {
   "cell_type": "markdown",
   "metadata": {},
   "source": [
    "Next we use the `Winsorizer` object from the `feature_engine` package to implement the remedial measures for the problem with outliers in the continuous variables. A description of the `feature-engine` python package may be found [here](https://feature-engine.readthedocs.io/en/1.0.x/).\n"
   ]
  },
  {
   "cell_type": "code",
   "execution_count": 40,
   "metadata": {},
   "outputs": [],
   "source": [
    "# create the capper for AGE variable\n",
    "\n",
    "windsoriser_age = Winsorizer(capping_method='gaussian', # choose iqr for IQR rule boundaries or gaussian for mean and std\n",
    "                          tail='both', # cap left, right or both tails \n",
    "                          fold=3,\n",
    "                          variables=['age'])\n",
    "\n"
   ]
  },
  {
   "cell_type": "code",
   "execution_count": 41,
   "metadata": {},
   "outputs": [],
   "source": [
    "#Capping Age variable; fitting the windsorise_age object to the data\n",
    "windsoriser_age.fit(data)\n",
    "#Tranforming the age variable\n",
    "data_t   = windsoriser_age.transform(data)"
   ]
  },
  {
   "cell_type": "code",
   "execution_count": 42,
   "metadata": {},
   "outputs": [],
   "source": [
    "# create the capper for duration and balance variables\n",
    "windsoriser_dur_bal = Winsorizer(capping_method='iqr', # choose iqr for IQR rule boundaries \n",
    "                          tail='both', # cap left, right or both tails \n",
    "                          fold=1.5,\n",
    "                          variables=['duration','balance'])"
   ]
  },
  {
   "cell_type": "code",
   "execution_count": 43,
   "metadata": {},
   "outputs": [],
   "source": [
    "#Capping duration and balance variables\n",
    "windsoriser_dur_bal.fit(data_t)\n",
    "data2   =  windsoriser_dur_bal.transform(data_t)"
   ]
  },
  {
   "cell_type": "code",
   "execution_count": 44,
   "metadata": {},
   "outputs": [
    {
     "data": {
      "text/html": [
       "<div>\n",
       "<style scoped>\n",
       "    .dataframe tbody tr th:only-of-type {\n",
       "        vertical-align: middle;\n",
       "    }\n",
       "\n",
       "    .dataframe tbody tr th {\n",
       "        vertical-align: top;\n",
       "    }\n",
       "\n",
       "    .dataframe thead th {\n",
       "        text-align: right;\n",
       "    }\n",
       "</style>\n",
       "<table border=\"1\" class=\"dataframe\">\n",
       "  <thead>\n",
       "    <tr style=\"text-align: right;\">\n",
       "      <th></th>\n",
       "      <th>age</th>\n",
       "      <th>balance</th>\n",
       "      <th>duration</th>\n",
       "    </tr>\n",
       "  </thead>\n",
       "  <tbody>\n",
       "    <tr>\n",
       "      <th>count</th>\n",
       "      <td>45211.000000</td>\n",
       "      <td>45211.000000</td>\n",
       "      <td>45211.000000</td>\n",
       "    </tr>\n",
       "    <tr>\n",
       "      <th>mean</th>\n",
       "      <td>40.889826</td>\n",
       "      <td>933.706974</td>\n",
       "      <td>234.939307</td>\n",
       "    </tr>\n",
       "    <tr>\n",
       "      <th>std</th>\n",
       "      <td>10.458640</td>\n",
       "      <td>1176.765369</td>\n",
       "      <td>176.749932</td>\n",
       "    </tr>\n",
       "    <tr>\n",
       "      <th>min</th>\n",
       "      <td>18.000000</td>\n",
       "      <td>-1962.000000</td>\n",
       "      <td>0.000000</td>\n",
       "    </tr>\n",
       "    <tr>\n",
       "      <th>25%</th>\n",
       "      <td>33.000000</td>\n",
       "      <td>72.000000</td>\n",
       "      <td>103.000000</td>\n",
       "    </tr>\n",
       "    <tr>\n",
       "      <th>50%</th>\n",
       "      <td>39.000000</td>\n",
       "      <td>448.000000</td>\n",
       "      <td>180.000000</td>\n",
       "    </tr>\n",
       "    <tr>\n",
       "      <th>75%</th>\n",
       "      <td>48.000000</td>\n",
       "      <td>1428.000000</td>\n",
       "      <td>319.000000</td>\n",
       "    </tr>\n",
       "    <tr>\n",
       "      <th>max</th>\n",
       "      <td>72.792496</td>\n",
       "      <td>3462.000000</td>\n",
       "      <td>643.000000</td>\n",
       "    </tr>\n",
       "  </tbody>\n",
       "</table>\n",
       "</div>"
      ],
      "text/plain": [
       "                age       balance      duration\n",
       "count  45211.000000  45211.000000  45211.000000\n",
       "mean      40.889826    933.706974    234.939307\n",
       "std       10.458640   1176.765369    176.749932\n",
       "min       18.000000  -1962.000000      0.000000\n",
       "25%       33.000000     72.000000    103.000000\n",
       "50%       39.000000    448.000000    180.000000\n",
       "75%       48.000000   1428.000000    319.000000\n",
       "max       72.792496   3462.000000    643.000000"
      ]
     },
     "execution_count": 44,
     "metadata": {},
     "output_type": "execute_result"
    }
   ],
   "source": [
    "#Examing summary statistics of continous variables after removing outliers\n",
    "contin_vars= ['age', 'balance', 'duration']\n",
    "data2[contin_vars].describe()"
   ]
  },
  {
   "cell_type": "code",
   "execution_count": 45,
   "metadata": {},
   "outputs": [
    {
     "data": {
      "text/plain": [
       "{'age': 9.079924091402077}"
      ]
     },
     "execution_count": 45,
     "metadata": {},
     "output_type": "execute_result"
    }
   ],
   "source": [
    "# we can inspect the minimum caps for age variable\n",
    "windsoriser_age.left_tail_caps_"
   ]
  },
  {
   "cell_type": "code",
   "execution_count": 46,
   "metadata": {},
   "outputs": [
    {
     "data": {
      "text/plain": [
       "{'age': 72.79249633725466}"
      ]
     },
     "execution_count": 46,
     "metadata": {},
     "output_type": "execute_result"
    }
   ],
   "source": [
    "# we can inspect the maximum caps for age variable\n",
    "windsoriser_age.right_tail_caps_"
   ]
  },
  {
   "cell_type": "code",
   "execution_count": 47,
   "metadata": {},
   "outputs": [
    {
     "data": {
      "text/plain": [
       "{'duration': -221.0, 'balance': -1962.0}"
      ]
     },
     "execution_count": 47,
     "metadata": {},
     "output_type": "execute_result"
    }
   ],
   "source": [
    "# we can inspect the minimum caps for duration and balance variables\n",
    "windsoriser_dur_bal.left_tail_caps_"
   ]
  },
  {
   "cell_type": "code",
   "execution_count": 48,
   "metadata": {},
   "outputs": [
    {
     "data": {
      "text/plain": [
       "{'duration': 643.0, 'balance': 3462.0}"
      ]
     },
     "execution_count": 48,
     "metadata": {},
     "output_type": "execute_result"
    }
   ],
   "source": [
    "# we can inspect the maximum caps for duration and balance variables\n",
    "windsoriser_dur_bal.right_tail_caps_"
   ]
  },
  {
   "cell_type": "code",
   "execution_count": 49,
   "metadata": {},
   "outputs": [
    {
     "data": {
      "image/png": "[encoded data removed]",
      "text/plain": [
       "<Figure size 1152x288 with 3 Axes>"
      ]
     },
     "metadata": {
      "needs_background": "light"
     },
     "output_type": "display_data"
    },
    {
     "data": {
      "image/png": "[encoded data removed]",
      "text/plain": [
       "<Figure size 1152x288 with 3 Axes>"
      ]
     },
     "metadata": {
      "needs_background": "light"
     },
     "output_type": "display_data"
    },
    {
     "data": {
      "image/png": "[encoded data removed]",
      "text/plain": [
       "<Figure size 1152x288 with 3 Axes>"
      ]
     },
     "metadata": {
      "needs_background": "light"
     },
     "output_type": "display_data"
    }
   ],
   "source": [
    "# checking the distribution of continous variables after transformation\n",
    "contin_vars= ['age', 'balance', 'duration']\n",
    "for df in [data2]:\n",
    "    for var in contin_vars:\n",
    "        diagnostic_plots(df, var)"
   ]
  },
  {
   "cell_type": "markdown",
   "metadata": {},
   "source": [
    "As is evidenced above, the serious `outliers` have been removed."
   ]
  },
  {
   "cell_type": "markdown",
   "metadata": {},
   "source": [
    "#### 2.3 Engineering rare labels in categorical variables "
   ]
  },
  {
   "cell_type": "markdown",
   "metadata": {},
   "source": [
    "Rare labels are levels of a categorical or discrete variable that are present in less than  **1%** of the records or observations."
   ]
  },
  {
   "cell_type": "code",
   "execution_count": 50,
   "metadata": {},
   "outputs": [
    {
     "name": "stdout",
     "output_type": "stream",
     "text": [
      "job blue-collar      0.215257\n",
      "management       0.209197\n",
      "technician       0.168034\n",
      "admin.           0.114375\n",
      "services         0.091880\n",
      "retired          0.050076\n",
      "self-employed    0.034925\n",
      "entrepreneur     0.032890\n",
      "unemployed       0.028820\n",
      "housemaid        0.027427\n",
      "student          0.020747\n",
      "unknown          0.006370\n",
      "Name: job, dtype: float64\n",
      "\n",
      "marital married     0.601933\n",
      "single      0.282896\n",
      "divorced    0.115171\n",
      "Name: marital, dtype: float64\n",
      "\n",
      "education secondary    0.513194\n",
      "tertiary     0.294198\n",
      "primary      0.151534\n",
      "unknown      0.041074\n",
      "Name: education, dtype: float64\n",
      "\n",
      "default no     0.981973\n",
      "yes    0.018027\n",
      "Name: default, dtype: float64\n",
      "\n",
      "housing yes    0.555838\n",
      "no     0.444162\n",
      "Name: housing, dtype: float64\n",
      "\n",
      "loan no     0.839774\n",
      "yes    0.160226\n",
      "Name: loan, dtype: float64\n",
      "\n",
      "contact cellular     0.647741\n",
      "unknown      0.287983\n",
      "telephone    0.064276\n",
      "Name: contact, dtype: float64\n",
      "\n",
      "month may    0.304483\n",
      "jul    0.152507\n",
      "aug    0.138174\n",
      "jun    0.118135\n",
      "nov    0.087810\n",
      "apr    0.064851\n",
      "feb    0.058592\n",
      "jan    0.031032\n",
      "oct    0.016323\n",
      "sep    0.012807\n",
      "mar    0.010551\n",
      "dec    0.004733\n",
      "Name: month, dtype: float64\n",
      "\n",
      "campaign 1     0.388047\n",
      "2     0.276592\n",
      "3     0.122116\n",
      "4     0.077901\n",
      "5     0.039017\n",
      "10    0.032337\n",
      "6     0.028555\n",
      "7     0.016257\n",
      "8     0.011944\n",
      "9     0.007233\n",
      "Name: campaign, dtype: float64\n",
      "\n",
      "previous 0    0.817367\n",
      "1    0.061313\n",
      "2    0.046582\n",
      "3    0.025259\n",
      "6    0.023534\n",
      "4    0.015793\n",
      "5    0.010152\n",
      "Name: previous, dtype: float64\n",
      "\n",
      "poutcome unknown    0.817478\n",
      "failure    0.108403\n",
      "other      0.040698\n",
      "success    0.033421\n",
      "Name: poutcome, dtype: float64\n",
      "\n"
     ]
    }
   ],
   "source": [
    "# find unfrequent labels in categorical variables\n",
    "for var in categorical:\n",
    "    print(var, data2[var].value_counts()/np.float(len(data2)))\n",
    "    print()"
   ]
  },
  {
   "cell_type": "markdown",
   "metadata": {},
   "source": [
    "- Variables that contain a lot of infrequent labels: replace by \"rare\" ( this prevents overfitting)\n",
    "- Variables that contain rare labels : replace by most frequent category"
   ]
  },
  {
   "cell_type": "code",
   "execution_count": 51,
   "metadata": {},
   "outputs": [],
   "source": [
    "# Defining function to flag categorical label with low proportion of observations as \"rare\"\n",
    "def rare_imputation(variable, which='rare'):    \n",
    "    # find frequent labels\n",
    "    temp = data2.groupby([variable])[variable].count()/np.float(len(data2))\n",
    "    frequent_cat = [x for x in temp.loc[temp>0.01].index.values]\n",
    "    \n",
    "    # create new variables, with Rare labels imputed\n",
    "    if which=='frequent':\n",
    "        # find the most frequent category\n",
    "        mode_label = data2.groupby(variable)[variable].count().sort_values().tail(1).index.values[0]\n",
    "        data2[variable] = np.where(data2[variable].isin(frequent_cat), data2[variable], mode_label)\n",
    "            \n",
    "    else:\n",
    "        data2[variable] = np.where(data2[variable].isin(frequent_cat), data2[variable], 'Rare')\n",
    "   "
   ]
  },
  {
   "cell_type": "code",
   "execution_count": 52,
   "metadata": {},
   "outputs": [],
   "source": [
    "#Imputing \"rare\" for rare labels\n",
    "for col in categorical:\n",
    "    rare_imputation(col, 'rare')"
   ]
  },
  {
   "cell_type": "code",
   "execution_count": 53,
   "metadata": {},
   "outputs": [],
   "source": [
    "#Imputing \"frequent\" for rare labels\n",
    "for col in categorical:\n",
    "    rare_imputation(col, 'frequent')"
   ]
  },
  {
   "cell_type": "code",
   "execution_count": 54,
   "metadata": {},
   "outputs": [
    {
     "name": "stdout",
     "output_type": "stream",
     "text": [
      "job blue-collar      0.221627\n",
      "management       0.209197\n",
      "technician       0.168034\n",
      "admin.           0.114375\n",
      "services         0.091880\n",
      "retired          0.050076\n",
      "self-employed    0.034925\n",
      "entrepreneur     0.032890\n",
      "unemployed       0.028820\n",
      "housemaid        0.027427\n",
      "student          0.020747\n",
      "Name: job, dtype: float64\n",
      "\n",
      "marital married     0.601933\n",
      "single      0.282896\n",
      "divorced    0.115171\n",
      "Name: marital, dtype: float64\n",
      "\n",
      "education secondary    0.513194\n",
      "tertiary     0.294198\n",
      "primary      0.151534\n",
      "unknown      0.041074\n",
      "Name: education, dtype: float64\n",
      "\n",
      "default no     0.981973\n",
      "yes    0.018027\n",
      "Name: default, dtype: float64\n",
      "\n",
      "housing yes    0.555838\n",
      "no     0.444162\n",
      "Name: housing, dtype: float64\n",
      "\n",
      "loan no     0.839774\n",
      "yes    0.160226\n",
      "Name: loan, dtype: float64\n",
      "\n",
      "contact cellular     0.647741\n",
      "unknown      0.287983\n",
      "telephone    0.064276\n",
      "Name: contact, dtype: float64\n",
      "\n",
      "month may    0.309217\n",
      "jul    0.152507\n",
      "aug    0.138174\n",
      "jun    0.118135\n",
      "nov    0.087810\n",
      "apr    0.064851\n",
      "feb    0.058592\n",
      "jan    0.031032\n",
      "oct    0.016323\n",
      "sep    0.012807\n",
      "mar    0.010551\n",
      "Name: month, dtype: float64\n",
      "\n",
      "campaign 1     0.395280\n",
      "2     0.276592\n",
      "3     0.122116\n",
      "4     0.077901\n",
      "5     0.039017\n",
      "10    0.032337\n",
      "6     0.028555\n",
      "7     0.016257\n",
      "8     0.011944\n",
      "Name: campaign, dtype: float64\n",
      "\n",
      "previous 0    0.817367\n",
      "1    0.061313\n",
      "2    0.046582\n",
      "3    0.025259\n",
      "6    0.023534\n",
      "4    0.015793\n",
      "5    0.010152\n",
      "Name: previous, dtype: float64\n",
      "\n",
      "poutcome unknown    0.817478\n",
      "failure    0.108403\n",
      "other      0.040698\n",
      "success    0.033421\n",
      "Name: poutcome, dtype: float64\n",
      "\n"
     ]
    }
   ],
   "source": [
    "# Checking to see if the change was effected\n",
    "for var in categorical:\n",
    "    print(var, data2[var].value_counts()/np.float(len(data2)))\n",
    "    print()"
   ]
  },
  {
   "cell_type": "markdown",
   "metadata": {},
   "source": [
    "#### 2.4 Encode categorical variables"
   ]
  },
  {
   "cell_type": "markdown",
   "metadata": {},
   "source": [
    "- expiration and gender: one hot encoding (create dummy or indicator variables 1's and 0's)\n",
    "- Remaining variables: replace by risk probability( this refers to replacing a category or level of a categorical or discrete variable with the mean of the response variable for that category or level)"
   ]
  },
  {
   "cell_type": "code",
   "execution_count": 55,
   "metadata": {},
   "outputs": [],
   "source": [
    "# Implementing the creation of dummy variables\n",
    "for df in [data2]:\n",
    "    for var in ['loan','housing','default']:\n",
    "        df[var]  = pd.get_dummies(df[var], drop_first=True)    "
   ]
  },
  {
   "cell_type": "code",
   "execution_count": 56,
   "metadata": {},
   "outputs": [],
   "source": [
    "# Defining function to implement recoding of categorical lables with their respective probability of the outcome variable\n",
    "def encode_categorical_variables(var, target):\n",
    "        # make label to risk dictionary\n",
    "        ordered_labels = data2.groupby([var])[target].mean().to_dict()\n",
    "        \n",
    "        # encode variables\n",
    "        data2[var] = data2[var].map(ordered_labels)\n",
    "        #X_test2[var] = X_test2[var].map(ordered_labels)"
   ]
  },
  {
   "cell_type": "code",
   "execution_count": 57,
   "metadata": {},
   "outputs": [],
   "source": [
    "# Calling the encoding function for select categorical variables\n",
    "categorical = [var for var in categorical if var not in['loan','housing','default']]\n",
    "for col in categorical:\n",
    "    encode_categorical_variables(col, 'y')# Y denotes the response or dependent variable"
   ]
  },
  {
   "cell_type": "code",
   "execution_count": 58,
   "metadata": {},
   "outputs": [
    {
     "data": {
      "text/html": [
       "<div>\n",
       "<style scoped>\n",
       "    .dataframe tbody tr th:only-of-type {\n",
       "        vertical-align: middle;\n",
       "    }\n",
       "\n",
       "    .dataframe tbody tr th {\n",
       "        vertical-align: top;\n",
       "    }\n",
       "\n",
       "    .dataframe thead th {\n",
       "        text-align: right;\n",
       "    }\n",
       "</style>\n",
       "<table border=\"1\" class=\"dataframe\">\n",
       "  <thead>\n",
       "    <tr style=\"text-align: right;\">\n",
       "      <th></th>\n",
       "      <th>age</th>\n",
       "      <th>job</th>\n",
       "      <th>marital</th>\n",
       "      <th>education</th>\n",
       "      <th>default</th>\n",
       "      <th>balance</th>\n",
       "      <th>housing</th>\n",
       "      <th>loan</th>\n",
       "      <th>contact</th>\n",
       "      <th>month</th>\n",
       "      <th>duration</th>\n",
       "      <th>campaign</th>\n",
       "      <th>previous</th>\n",
       "      <th>poutcome</th>\n",
       "      <th>y</th>\n",
       "    </tr>\n",
       "  </thead>\n",
       "  <tbody>\n",
       "    <tr>\n",
       "      <th>0</th>\n",
       "      <td>58.0</td>\n",
       "      <td>0.137556</td>\n",
       "      <td>0.101235</td>\n",
       "      <td>0.150064</td>\n",
       "      <td>0</td>\n",
       "      <td>2143.0</td>\n",
       "      <td>1</td>\n",
       "      <td>0</td>\n",
       "      <td>0.040707</td>\n",
       "      <td>0.073319</td>\n",
       "      <td>261.0</td>\n",
       "      <td>0.14448</td>\n",
       "      <td>0.091573</td>\n",
       "      <td>0.091615</td>\n",
       "      <td>0</td>\n",
       "    </tr>\n",
       "    <tr>\n",
       "      <th>1</th>\n",
       "      <td>44.0</td>\n",
       "      <td>0.110570</td>\n",
       "      <td>0.149492</td>\n",
       "      <td>0.105594</td>\n",
       "      <td>0</td>\n",
       "      <td>29.0</td>\n",
       "      <td>1</td>\n",
       "      <td>0</td>\n",
       "      <td>0.040707</td>\n",
       "      <td>0.073319</td>\n",
       "      <td>151.0</td>\n",
       "      <td>0.14448</td>\n",
       "      <td>0.091573</td>\n",
       "      <td>0.091615</td>\n",
       "      <td>0</td>\n",
       "    </tr>\n",
       "    <tr>\n",
       "      <th>2</th>\n",
       "      <td>33.0</td>\n",
       "      <td>0.082717</td>\n",
       "      <td>0.101235</td>\n",
       "      <td>0.105594</td>\n",
       "      <td>0</td>\n",
       "      <td>2.0</td>\n",
       "      <td>1</td>\n",
       "      <td>1</td>\n",
       "      <td>0.040707</td>\n",
       "      <td>0.073319</td>\n",
       "      <td>76.0</td>\n",
       "      <td>0.14448</td>\n",
       "      <td>0.091573</td>\n",
       "      <td>0.091615</td>\n",
       "      <td>0</td>\n",
       "    </tr>\n",
       "    <tr>\n",
       "      <th>3</th>\n",
       "      <td>47.0</td>\n",
       "      <td>0.074052</td>\n",
       "      <td>0.101235</td>\n",
       "      <td>0.135703</td>\n",
       "      <td>0</td>\n",
       "      <td>1506.0</td>\n",
       "      <td>1</td>\n",
       "      <td>0</td>\n",
       "      <td>0.040707</td>\n",
       "      <td>0.073319</td>\n",
       "      <td>92.0</td>\n",
       "      <td>0.14448</td>\n",
       "      <td>0.091573</td>\n",
       "      <td>0.091615</td>\n",
       "      <td>0</td>\n",
       "    </tr>\n",
       "    <tr>\n",
       "      <th>4</th>\n",
       "      <td>33.0</td>\n",
       "      <td>0.074052</td>\n",
       "      <td>0.149492</td>\n",
       "      <td>0.135703</td>\n",
       "      <td>0</td>\n",
       "      <td>1.0</td>\n",
       "      <td>0</td>\n",
       "      <td>0</td>\n",
       "      <td>0.040707</td>\n",
       "      <td>0.073319</td>\n",
       "      <td>198.0</td>\n",
       "      <td>0.14448</td>\n",
       "      <td>0.091573</td>\n",
       "      <td>0.091615</td>\n",
       "      <td>0</td>\n",
       "    </tr>\n",
       "  </tbody>\n",
       "</table>\n",
       "</div>"
      ],
      "text/plain": [
       "    age       job   marital  education  default  balance  housing  loan  \\\n",
       "0  58.0  0.137556  0.101235   0.150064        0   2143.0        1     0   \n",
       "1  44.0  0.110570  0.149492   0.105594        0     29.0        1     0   \n",
       "2  33.0  0.082717  0.101235   0.105594        0      2.0        1     1   \n",
       "3  47.0  0.074052  0.101235   0.135703        0   1506.0        1     0   \n",
       "4  33.0  0.074052  0.149492   0.135703        0      1.0        0     0   \n",
       "\n",
       "    contact     month  duration  campaign  previous  poutcome  y  \n",
       "0  0.040707  0.073319     261.0   0.14448  0.091573  0.091615  0  \n",
       "1  0.040707  0.073319     151.0   0.14448  0.091573  0.091615  0  \n",
       "2  0.040707  0.073319      76.0   0.14448  0.091573  0.091615  0  \n",
       "3  0.040707  0.073319      92.0   0.14448  0.091573  0.091615  0  \n",
       "4  0.040707  0.073319     198.0   0.14448  0.091573  0.091615  0  "
      ]
     },
     "execution_count": 58,
     "metadata": {},
     "output_type": "execute_result"
    }
   ],
   "source": [
    "#let's inspect the dataset after the feature engineering stage\n",
    "data2.head()"
   ]
  },
  {
   "cell_type": "code",
   "execution_count": 59,
   "metadata": {},
   "outputs": [
    {
     "data": {
      "text/plain": [
       "(45211, 15)"
      ]
     },
     "execution_count": 59,
     "metadata": {},
     "output_type": "execute_result"
    }
   ],
   "source": [
    "# Examining the dimensions of the training and test data sets\n",
    "data2.shape"
   ]
  },
  {
   "cell_type": "markdown",
   "metadata": {},
   "source": [
    "## Section 3 : Address Imbalance in the Dataset"
   ]
  },
  {
   "cell_type": "markdown",
   "metadata": {},
   "source": [
    "Dataset or class imbalance refers to a scenario wherein there exists an unequal distribution of records across the classes in a dataset, i.e. the number of observations belonging to  the negative class (majority class) is very large compared to those associated the positive class (minority class). Typically, the class of importance, i.e. the one that we are interested in classifying records to, is the minority class; and, the imbalance in the dataset, if left untreated, will lead to sub-optimal performance of a binary classifier.\n",
    "Notably, there exist several techniques that have been developed for addressing imbalance in modeling datasets. Some address this problem by *oversampling* members of the minority class, for example SMOTE(Synthetic Minority Oversampling Technique) and it's many variants (SMOTE, Borderline-SMOTE and SVM-SMOTE), to name a few. On the other hand, there exists other techniques that aim to address the imbalance in the classes by *undersampling* members of the majority class(examples include: ENN and Tomek Links). Further, the issue with imbalance classes may be treated by applying a combination of *oversampling* and *undersampling* techniques (for example:`SMENN` and `SMOTETomek`). A more detailed description of the techniques referenced above can be found in this [article](https://www.analyticsvidhya.com/blog/2020/10/overcoming-class-imbalance-using-smote-techniques/).\n",
    "\n",
    "In this section, I implement variants of the `SMOTE` technique and and a combination *oversampling* and *undersampling* techniques, referenced above. Note that the data is split into a training and testing/validation samples, then the treatments are applied. Here various treatments are then tested using a `Random Forest` model with model performance being measaured by the `roc-auc` metric. A `roc-auc` value is greater than 0.5 or 50% signals that model is better than random guessing.\n",
    "See [wikipedia](https://en.wikipedia.org/wiki/Receiver_operating_characteristic) for more on the ROC( Receiver Operating Characteristic metric).\n"
   ]
  },
  {
   "cell_type": "code",
   "execution_count": 60,
   "metadata": {},
   "outputs": [],
   "source": [
    "# Creating a dictionary of objects implementing various undersampling and oversampling techniques\n",
    "oversampler_dict = {\n",
    "\n",
    "    'smote': SMOTE(\n",
    "        sampling_strategy='auto',\n",
    "        random_state=0,\n",
    "        k_neighbors=5,\n",
    "        n_jobs=4),\n",
    "\n",
    "    'border1': BorderlineSMOTE(\n",
    "        sampling_strategy='auto',\n",
    "        random_state=0,\n",
    "        k_neighbors=5,\n",
    "        m_neighbors=10,\n",
    "        kind='borderline-1',\n",
    "        n_jobs=4),\n",
    "\n",
    "    'svm': SVMSMOTE(\n",
    "        sampling_strategy='auto',\n",
    "        random_state=0,\n",
    "        k_neighbors=5,\n",
    "        m_neighbors=10,\n",
    "        n_jobs=4,\n",
    "        svm_estimator=SVC(kernel='linear')),\n",
    "\n",
    "    'smenn': SMOTEENN(\n",
    "        sampling_strategy='auto',\n",
    "        random_state=0,\n",
    "        smote=SMOTE(sampling_strategy='auto', random_state=0, k_neighbors=5),\n",
    "        enn=EditedNearestNeighbours(\n",
    "            sampling_strategy='auto', n_neighbors=3, kind_sel='all'),\n",
    "        n_jobs=4),\n",
    "\n",
    "    'smtomek': SMOTETomek(\n",
    "        sampling_strategy='auto',\n",
    "        random_state=0,\n",
    "        smote=SMOTE(sampling_strategy='auto', random_state=0, k_neighbors=5),\n",
    "        tomek=TomekLinks(sampling_strategy='all'),\n",
    "        n_jobs=4),\n",
    "\n",
    "}"
   ]
  },
  {
   "cell_type": "code",
   "execution_count": 61,
   "metadata": {},
   "outputs": [],
   "source": [
    "# function to train random forests and evaluate the performance\n",
    "\n",
    "def run_randomForests(X_train, X_test, y_train, y_test):\n",
    "\n",
    "    rf = RandomForestClassifier(\n",
    "        n_estimators=100, random_state=39, max_depth=2, n_jobs=4)\n",
    "    rf.fit(X_train, y_train)\n",
    "\n",
    "    print('Train set')\n",
    "    pred = rf.predict_proba(X_train)\n",
    "    print(\n",
    "        'Random Forests roc-auc: {}'.format(roc_auc_score(y_train, pred[:, 1])))\n",
    "\n",
    "    print('Test set')\n",
    "    pred = rf.predict_proba(X_test)\n",
    "    print(\n",
    "        'Random Forests roc-auc: {}'.format(roc_auc_score(y_test, pred[:, 1])))\n",
    "\n",
    "    return roc_auc_score(y_test, pred[:, 1])"
   ]
  },
  {
   "cell_type": "code",
   "execution_count": 62,
   "metadata": {},
   "outputs": [
    {
     "name": "stdout",
     "output_type": "stream",
     "text": [
      "data2\n",
      "Train set\n",
      "Random Forests roc-auc: 0.8953730991058915\n",
      "Test set\n",
      "Random Forests roc-auc: 0.8858777023507175\n",
      "\n",
      "smote\n",
      "Train set\n",
      "Random Forests roc-auc: 0.9045050078176196\n",
      "Test set\n",
      "Random Forests roc-auc: 0.8579297458874297\n",
      "\n",
      "\n",
      "border1\n",
      "Train set\n",
      "Random Forests roc-auc: 0.8968852624889363\n",
      "Test set\n",
      "Random Forests roc-auc: 0.8522509953220323\n",
      "\n",
      "\n",
      "svm\n",
      "Train set\n",
      "Random Forests roc-auc: 0.9193554012244151\n",
      "Test set\n",
      "Random Forests roc-auc: 0.8754462350623121\n",
      "\n",
      "\n",
      "smenn\n",
      "Train set\n",
      "Random Forests roc-auc: 0.9101884933953863\n",
      "Test set\n",
      "Random Forests roc-auc: 0.8628442703734909\n",
      "\n",
      "\n",
      "smtomek\n",
      "Train set\n",
      "Random Forests roc-auc: 0.9068274684213236\n",
      "Test set\n",
      "Random Forests roc-auc: 0.8588943328258398\n",
      "\n",
      "\n"
     ]
    }
   ],
   "source": [
    "# to save the results\n",
    "results_dict = {}\n",
    "shapes_dict = {}\n",
    "\n",
    "#for dataset in datasets_ls:\n",
    "    \n",
    "results_dict['data2'] = {}\n",
    "shapes_dict['data2'] = {}\n",
    "    \n",
    "print('data2')\n",
    "    \n",
    "    # load dataset\n",
    "    #data = fetch_datasets()[dataset]\n",
    "    \n",
    "    # separate train and test\n",
    "X_train, X_test, y_train, y_test = train_test_split(\n",
    "data2.drop('y', axis=1),  # predictors\n",
    "data2.y,  # target\n",
    "   \n",
    "test_size=0.3,\n",
    "random_state=0)\n",
    "    \n",
    "    # as some oversampling techniques use KNN\n",
    "    # we set variables in the same scale\n",
    "scaler = MinMaxScaler().fit(X_train)\n",
    "X_train = scaler.transform(X_train)\n",
    "X_test = scaler.transform(X_test)\n",
    "        \n",
    "roc = run_randomForests(X_train, X_test, y_train, y_test)\n",
    "    \n",
    "    # store results\n",
    "results_dict['data2']['full_data'] = roc\n",
    "shapes_dict['data2']['full_data'] = len(X_train)\n",
    "    \n",
    "print()\n",
    "    \n",
    "for oversampler in oversampler_dict.keys():\n",
    "    print(oversampler)\n",
    "\n",
    "            # resample\n",
    "    X_resampled, y_resampled = oversampler_dict[oversampler].fit_resample(X_train, y_train)\n",
    "\n",
    "            # evaluate performance\n",
    "    roc = run_randomForests(X_resampled, X_test, y_resampled, y_test)\n",
    "\n",
    "            #store results\n",
    "    results_dict['data2'][oversampler] = roc\n",
    "    shapes_dict['data2'][oversampler] = len(X_resampled)\n",
    "    print()\n",
    "\n",
    "    print()"
   ]
  },
  {
   "cell_type": "code",
   "execution_count": 63,
   "metadata": {},
   "outputs": [
    {
     "data": {
      "image/png": "[encoded data removed]",
      "text/plain": [
       "<Figure size 432x288 with 1 Axes>"
      ]
     },
     "metadata": {
      "needs_background": "light"
     },
     "output_type": "display_data"
    }
   ],
   "source": [
    "#Checking the preformance of the Random Forest model across various oversampling and undersampling techniques\n",
    " # Performance is measure by the roc-auc metric \n",
    "pd.Series(results_dict['data2']).plot.bar()\n",
    "plt.title('Comparison of Imblance Treatments')\n",
    "plt.ylabel('roc-auc')\n",
    "#     plt.ylim(0.55, 0.9)\n",
    "plt.axhline(results_dict['data2']['full_data'], color='r')\n",
    "plt.show()"
   ]
  },
  {
   "cell_type": "markdown",
   "metadata": {},
   "source": [
    "Surprisingly, the performance of the `Random Forest` model with the original data (before the treatment for imbalance) proved superior to its performance with the various `oversampling`, `undersampling` and `hybrid treatments`. Therefore, the original dataset will be used as is for the remainder of this machine-learning tutorial.\n",
    "\n",
    "**Note**: Applying the `MinMaxScaler` object to the training (X_train) and testing(X_test) samples coverted the dataframes into numpy arrays without the orginal columns names; therefore, I will convert the numpy arrays to dataframes and add back the columns names below.\n"
   ]
  },
  {
   "cell_type": "code",
   "execution_count": 64,
   "metadata": {},
   "outputs": [],
   "source": [
    "# Columns to be added\n",
    "col=[col for col in data.columns if col not in ['y']]"
   ]
  },
  {
   "cell_type": "code",
   "execution_count": 65,
   "metadata": {},
   "outputs": [
    {
     "data": {
      "text/plain": [
       "['age',\n",
       " 'job',\n",
       " 'marital',\n",
       " 'education',\n",
       " 'default',\n",
       " 'balance',\n",
       " 'housing',\n",
       " 'loan',\n",
       " 'contact',\n",
       " 'month',\n",
       " 'duration',\n",
       " 'campaign',\n",
       " 'previous',\n",
       " 'poutcome']"
      ]
     },
     "execution_count": 65,
     "metadata": {},
     "output_type": "execute_result"
    }
   ],
   "source": [
    "col"
   ]
  },
  {
   "cell_type": "code",
   "execution_count": 66,
   "metadata": {},
   "outputs": [
    {
     "data": {
      "text/plain": [
       "(31647, 14)"
      ]
     },
     "execution_count": 66,
     "metadata": {},
     "output_type": "execute_result"
    }
   ],
   "source": [
    "# Checking the dimensions of the training sample\n",
    "X_train.shape"
   ]
  },
  {
   "cell_type": "code",
   "execution_count": 67,
   "metadata": {},
   "outputs": [],
   "source": [
    "# Converting the training array to a datafram and adding back the column names\n",
    "X_train = pd.DataFrame(X_train)\n",
    "X_train.columns = data2[col].columns"
   ]
  },
  {
   "cell_type": "code",
   "execution_count": 68,
   "metadata": {},
   "outputs": [
    {
     "data": {
      "text/plain": [
       "(13564, 14)"
      ]
     },
     "execution_count": 68,
     "metadata": {},
     "output_type": "execute_result"
    }
   ],
   "source": [
    "# Checking the dimensions of the testing/validation sample\n",
    "X_test.shape"
   ]
  },
  {
   "cell_type": "code",
   "execution_count": 69,
   "metadata": {},
   "outputs": [],
   "source": [
    "# Converting the testing array to a datafram and adding back the column names\n",
    "X_test = pd.DataFrame(X_test)\n",
    "X_test.columns = data2[col].columns"
   ]
  },
  {
   "cell_type": "code",
   "execution_count": 70,
   "metadata": {},
   "outputs": [
    {
     "data": {
      "text/html": [
       "<div>\n",
       "<style scoped>\n",
       "    .dataframe tbody tr th:only-of-type {\n",
       "        vertical-align: middle;\n",
       "    }\n",
       "\n",
       "    .dataframe tbody tr th {\n",
       "        vertical-align: top;\n",
       "    }\n",
       "\n",
       "    .dataframe thead th {\n",
       "        text-align: right;\n",
       "    }\n",
       "</style>\n",
       "<table border=\"1\" class=\"dataframe\">\n",
       "  <thead>\n",
       "    <tr style=\"text-align: right;\">\n",
       "      <th></th>\n",
       "      <th>age</th>\n",
       "      <th>job</th>\n",
       "      <th>marital</th>\n",
       "      <th>education</th>\n",
       "      <th>default</th>\n",
       "      <th>balance</th>\n",
       "      <th>housing</th>\n",
       "      <th>loan</th>\n",
       "      <th>contact</th>\n",
       "      <th>month</th>\n",
       "      <th>duration</th>\n",
       "      <th>campaign</th>\n",
       "      <th>previous</th>\n",
       "      <th>poutcome</th>\n",
       "    </tr>\n",
       "  </thead>\n",
       "  <tbody>\n",
       "    <tr>\n",
       "      <th>0</th>\n",
       "      <td>0.730027</td>\n",
       "      <td>0.298520</td>\n",
       "      <td>0.000000</td>\n",
       "      <td>0.000000</td>\n",
       "      <td>0.0</td>\n",
       "      <td>0.549963</td>\n",
       "      <td>0.0</td>\n",
       "      <td>0.0</td>\n",
       "      <td>0.0</td>\n",
       "      <td>0.063127</td>\n",
       "      <td>0.318818</td>\n",
       "      <td>1.000000</td>\n",
       "      <td>0.0</td>\n",
       "      <td>0.0</td>\n",
       "    </tr>\n",
       "    <tr>\n",
       "      <th>1</th>\n",
       "      <td>0.675275</td>\n",
       "      <td>0.000000</td>\n",
       "      <td>0.000000</td>\n",
       "      <td>0.774900</td>\n",
       "      <td>0.0</td>\n",
       "      <td>0.397861</td>\n",
       "      <td>0.0</td>\n",
       "      <td>0.0</td>\n",
       "      <td>1.0</td>\n",
       "      <td>0.082432</td>\n",
       "      <td>0.261275</td>\n",
       "      <td>0.684256</td>\n",
       "      <td>0.0</td>\n",
       "      <td>0.0</td>\n",
       "    </tr>\n",
       "    <tr>\n",
       "      <th>2</th>\n",
       "      <td>0.584022</td>\n",
       "      <td>0.225521</td>\n",
       "      <td>0.000000</td>\n",
       "      <td>0.302975</td>\n",
       "      <td>0.0</td>\n",
       "      <td>0.391040</td>\n",
       "      <td>1.0</td>\n",
       "      <td>0.0</td>\n",
       "      <td>0.0</td>\n",
       "      <td>0.000000</td>\n",
       "      <td>0.335925</td>\n",
       "      <td>0.684256</td>\n",
       "      <td>0.0</td>\n",
       "      <td>0.0</td>\n",
       "    </tr>\n",
       "    <tr>\n",
       "      <th>3</th>\n",
       "      <td>0.456267</td>\n",
       "      <td>0.298520</td>\n",
       "      <td>0.000000</td>\n",
       "      <td>0.000000</td>\n",
       "      <td>0.0</td>\n",
       "      <td>0.708333</td>\n",
       "      <td>1.0</td>\n",
       "      <td>0.0</td>\n",
       "      <td>1.0</td>\n",
       "      <td>0.039446</td>\n",
       "      <td>0.097978</td>\n",
       "      <td>0.287466</td>\n",
       "      <td>0.0</td>\n",
       "      <td>0.0</td>\n",
       "    </tr>\n",
       "    <tr>\n",
       "      <th>4</th>\n",
       "      <td>0.638774</td>\n",
       "      <td>0.171665</td>\n",
       "      <td>0.377559</td>\n",
       "      <td>1.000000</td>\n",
       "      <td>0.0</td>\n",
       "      <td>0.481010</td>\n",
       "      <td>1.0</td>\n",
       "      <td>0.0</td>\n",
       "      <td>0.0</td>\n",
       "      <td>0.000000</td>\n",
       "      <td>0.796267</td>\n",
       "      <td>0.287466</td>\n",
       "      <td>0.0</td>\n",
       "      <td>0.0</td>\n",
       "    </tr>\n",
       "  </tbody>\n",
       "</table>\n",
       "</div>"
      ],
      "text/plain": [
       "        age       job   marital  education  default   balance  housing  loan  \\\n",
       "0  0.730027  0.298520  0.000000   0.000000      0.0  0.549963      0.0   0.0   \n",
       "1  0.675275  0.000000  0.000000   0.774900      0.0  0.397861      0.0   0.0   \n",
       "2  0.584022  0.225521  0.000000   0.302975      0.0  0.391040      1.0   0.0   \n",
       "3  0.456267  0.298520  0.000000   0.000000      0.0  0.708333      1.0   0.0   \n",
       "4  0.638774  0.171665  0.377559   1.000000      0.0  0.481010      1.0   0.0   \n",
       "\n",
       "   contact     month  duration  campaign  previous  poutcome  \n",
       "0      0.0  0.063127  0.318818  1.000000       0.0       0.0  \n",
       "1      1.0  0.082432  0.261275  0.684256       0.0       0.0  \n",
       "2      0.0  0.000000  0.335925  0.684256       0.0       0.0  \n",
       "3      1.0  0.039446  0.097978  0.287466       0.0       0.0  \n",
       "4      0.0  0.000000  0.796267  0.287466       0.0       0.0  "
      ]
     },
     "execution_count": 70,
     "metadata": {},
     "output_type": "execute_result"
    }
   ],
   "source": [
    "# Checking the first 5 records of the training sample\n",
    "X_train.head()"
   ]
  },
  {
   "cell_type": "code",
   "execution_count": 71,
   "metadata": {},
   "outputs": [
    {
     "data": {
      "text/html": [
       "<div>\n",
       "<style scoped>\n",
       "    .dataframe tbody tr th:only-of-type {\n",
       "        vertical-align: middle;\n",
       "    }\n",
       "\n",
       "    .dataframe tbody tr th {\n",
       "        vertical-align: top;\n",
       "    }\n",
       "\n",
       "    .dataframe thead th {\n",
       "        text-align: right;\n",
       "    }\n",
       "</style>\n",
       "<table border=\"1\" class=\"dataframe\">\n",
       "  <thead>\n",
       "    <tr style=\"text-align: right;\">\n",
       "      <th></th>\n",
       "      <th>age</th>\n",
       "      <th>job</th>\n",
       "      <th>marital</th>\n",
       "      <th>education</th>\n",
       "      <th>default</th>\n",
       "      <th>balance</th>\n",
       "      <th>housing</th>\n",
       "      <th>loan</th>\n",
       "      <th>contact</th>\n",
       "      <th>month</th>\n",
       "      <th>duration</th>\n",
       "      <th>campaign</th>\n",
       "      <th>previous</th>\n",
       "      <th>poutcome</th>\n",
       "    </tr>\n",
       "  </thead>\n",
       "  <tbody>\n",
       "    <tr>\n",
       "      <th>0</th>\n",
       "      <td>0.346763</td>\n",
       "      <td>0.298520</td>\n",
       "      <td>0.0</td>\n",
       "      <td>1.000000</td>\n",
       "      <td>0.0</td>\n",
       "      <td>0.620391</td>\n",
       "      <td>1.0</td>\n",
       "      <td>0.0</td>\n",
       "      <td>1.000000</td>\n",
       "      <td>0.039446</td>\n",
       "      <td>0.141524</td>\n",
       "      <td>0.000000</td>\n",
       "      <td>0.000000</td>\n",
       "      <td>0.000000</td>\n",
       "    </tr>\n",
       "    <tr>\n",
       "      <th>1</th>\n",
       "      <td>0.328512</td>\n",
       "      <td>0.069470</td>\n",
       "      <td>1.0</td>\n",
       "      <td>0.302975</td>\n",
       "      <td>0.0</td>\n",
       "      <td>0.315081</td>\n",
       "      <td>1.0</td>\n",
       "      <td>0.0</td>\n",
       "      <td>1.000000</td>\n",
       "      <td>0.276480</td>\n",
       "      <td>1.000000</td>\n",
       "      <td>1.000000</td>\n",
       "      <td>0.000000</td>\n",
       "      <td>0.000000</td>\n",
       "    </tr>\n",
       "    <tr>\n",
       "      <th>2</th>\n",
       "      <td>0.529270</td>\n",
       "      <td>0.000000</td>\n",
       "      <td>0.0</td>\n",
       "      <td>0.000000</td>\n",
       "      <td>0.0</td>\n",
       "      <td>0.286873</td>\n",
       "      <td>0.0</td>\n",
       "      <td>1.0</td>\n",
       "      <td>0.861877</td>\n",
       "      <td>0.039446</td>\n",
       "      <td>0.377916</td>\n",
       "      <td>0.360801</td>\n",
       "      <td>0.000000</td>\n",
       "      <td>0.000000</td>\n",
       "    </tr>\n",
       "    <tr>\n",
       "      <th>3</th>\n",
       "      <td>0.711776</td>\n",
       "      <td>0.065113</td>\n",
       "      <td>0.0</td>\n",
       "      <td>0.000000</td>\n",
       "      <td>0.0</td>\n",
       "      <td>0.454093</td>\n",
       "      <td>1.0</td>\n",
       "      <td>1.0</td>\n",
       "      <td>1.000000</td>\n",
       "      <td>0.208597</td>\n",
       "      <td>0.163297</td>\n",
       "      <td>0.216259</td>\n",
       "      <td>0.726276</td>\n",
       "      <td>0.062058</td>\n",
       "    </tr>\n",
       "    <tr>\n",
       "      <th>4</th>\n",
       "      <td>0.273760</td>\n",
       "      <td>0.000000</td>\n",
       "      <td>0.0</td>\n",
       "      <td>0.302975</td>\n",
       "      <td>1.0</td>\n",
       "      <td>0.286873</td>\n",
       "      <td>1.0</td>\n",
       "      <td>1.0</td>\n",
       "      <td>1.000000</td>\n",
       "      <td>0.039446</td>\n",
       "      <td>0.516330</td>\n",
       "      <td>0.684256</td>\n",
       "      <td>0.000000</td>\n",
       "      <td>0.000000</td>\n",
       "    </tr>\n",
       "  </tbody>\n",
       "</table>\n",
       "</div>"
      ],
      "text/plain": [
       "        age       job  marital  education  default   balance  housing  loan  \\\n",
       "0  0.346763  0.298520      0.0   1.000000      0.0  0.620391      1.0   0.0   \n",
       "1  0.328512  0.069470      1.0   0.302975      0.0  0.315081      1.0   0.0   \n",
       "2  0.529270  0.000000      0.0   0.000000      0.0  0.286873      0.0   1.0   \n",
       "3  0.711776  0.065113      0.0   0.000000      0.0  0.454093      1.0   1.0   \n",
       "4  0.273760  0.000000      0.0   0.302975      1.0  0.286873      1.0   1.0   \n",
       "\n",
       "    contact     month  duration  campaign  previous  poutcome  \n",
       "0  1.000000  0.039446  0.141524  0.000000  0.000000  0.000000  \n",
       "1  1.000000  0.276480  1.000000  1.000000  0.000000  0.000000  \n",
       "2  0.861877  0.039446  0.377916  0.360801  0.000000  0.000000  \n",
       "3  1.000000  0.208597  0.163297  0.216259  0.726276  0.062058  \n",
       "4  1.000000  0.039446  0.516330  0.684256  0.000000  0.000000  "
      ]
     },
     "execution_count": 71,
     "metadata": {},
     "output_type": "execute_result"
    }
   ],
   "source": [
    "# Checking the first 5 records of the testing/validation sample\n",
    "X_test.head()"
   ]
  },
  {
   "cell_type": "markdown",
   "metadata": {},
   "source": [
    "## Section 4 : Feature Selection"
   ]
  },
  {
   "cell_type": "markdown",
   "metadata": {},
   "source": [
    "We have now come to another fundamental step in the machine-learning model buiding process: feature selection ,also know as variable selection or variable subset selection.\n",
    "This refers to the process of selecting a subset of relevant variables /features or predictors for use in the model buiding process.\n",
    "In model-building the term \"less is more\" is apropos; Slimming the candidate pool of predictors is important for a number of factors:\n",
    "* Simpler models tend to be more interpretable and are more easily deployed in production.\n",
    "* They are less computationally expensive (use less computing resources);also, they train faster.\n",
    "* They avoid the [curse of dimensionality](https://en.wikipedia.org/wiki/Feature_selection).\n",
    "* And they are more generalizable (prevents overfitting, a term defined earlier)."
   ]
  },
  {
   "cell_type": "code",
   "execution_count": 72,
   "metadata": {},
   "outputs": [
    {
     "data": {
      "text/plain": [
       "((31647,), (13564,))"
      ]
     },
     "execution_count": 72,
     "metadata": {},
     "output_type": "execute_result"
    }
   ],
   "source": [
    "# Checking y_train and y_test\n",
    "y_train.shape, y_test.shape"
   ]
  },
  {
   "cell_type": "markdown",
   "metadata": {},
   "source": [
    "They represent the response vectors of the training and testing samples."
   ]
  },
  {
   "cell_type": "code",
   "execution_count": 73,
   "metadata": {},
   "outputs": [
    {
     "data": {
      "text/plain": [
       "((31647, 14), (13564, 14))"
      ]
     },
     "execution_count": 73,
     "metadata": {},
     "output_type": "execute_result"
    }
   ],
   "source": [
    "# I keep a copy of the dataset with all the variables\n",
    "# to measure the performance of machine learning models\n",
    "# at the end of the notebook\n",
    " \n",
    "X_train_original = X_train.copy()\n",
    "X_test_original = X_test.copy()\n",
    "X_train_original.shape, X_test_original.shape"
   ]
  },
  {
   "cell_type": "markdown",
   "metadata": {},
   "source": [
    "#### 3.1 Remove constant features"
   ]
  },
  {
   "cell_type": "markdown",
   "metadata": {},
   "source": [
    "Here we remove variables or features with constant values as they contain no information or discriminating value for the purpose of model building."
   ]
  },
  {
   "cell_type": "code",
   "execution_count": 74,
   "metadata": {},
   "outputs": [
    {
     "data": {
      "text/plain": [
       "((31647, 14), (13564, 14))"
      ]
     },
     "execution_count": 74,
     "metadata": {},
     "output_type": "execute_result"
    }
   ],
   "source": [
    "# remove constant features\n",
    "constant_features = [\n",
    "    feat for feat in X_train.columns if X_train[feat].std() == 0\n",
    "]\n",
    " \n",
    "X_train.drop(labels=constant_features, axis=1, inplace=True)\n",
    "X_test.drop(labels=constant_features, axis=1, inplace=True)\n",
    " \n",
    "X_train.shape, X_test.shape"
   ]
  },
  {
   "cell_type": "markdown",
   "metadata": {},
   "source": [
    "There were no constant features. Great!"
   ]
  },
  {
   "cell_type": "markdown",
   "metadata": {},
   "source": [
    "#### 3.2 Remove quasi-constant features"
   ]
  },
  {
   "cell_type": "markdown",
   "metadata": {},
   "source": [
    "Quasi-constant or nearly constant features/variables are also removed from the modeling dataset for same reason that we remove constant features."
   ]
  },
  {
   "cell_type": "code",
   "execution_count": 75,
   "metadata": {},
   "outputs": [
    {
     "data": {
      "text/plain": [
       "14"
      ]
     },
     "execution_count": 75,
     "metadata": {},
     "output_type": "execute_result"
    }
   ],
   "source": [
    "# remove quasi-constant features\n",
    "sel = VarianceThreshold(\n",
    "    threshold=0.01)  # 0.1 indicates 99% of observations approximately\n",
    " \n",
    "sel.fit(X_train)  # fit finds the features with low variance\n",
    " \n",
    "sum(sel.get_support()) # how many not quasi-constant?"
   ]
  },
  {
   "cell_type": "code",
   "execution_count": 76,
   "metadata": {},
   "outputs": [],
   "source": [
    "features_to_keep = X_train.columns[sel.get_support()]"
   ]
  },
  {
   "cell_type": "code",
   "execution_count": 77,
   "metadata": {},
   "outputs": [
    {
     "data": {
      "text/plain": [
       "((31647, 14), (13564, 14))"
      ]
     },
     "execution_count": 77,
     "metadata": {},
     "output_type": "execute_result"
    }
   ],
   "source": [
    "# we can then remove the features like this\n",
    "X_train = sel.transform(X_train)\n",
    "X_test = sel.transform(X_test)\n",
    " \n",
    "X_train.shape, X_test.shape"
   ]
  },
  {
   "cell_type": "code",
   "execution_count": 78,
   "metadata": {},
   "outputs": [],
   "source": [
    "# sklearn transformations lead to numpy arrays\n",
    "# here I transform the arrays back to dataframes\n",
    "# please be mindful of getting the columns assigned\n",
    "# correctly\n",
    " \n",
    "X_train= pd.DataFrame(X_train)\n",
    "X_train.columns = features_to_keep\n",
    " \n",
    "X_test= pd.DataFrame(X_test)\n",
    "X_test.columns = features_to_keep"
   ]
  },
  {
   "cell_type": "markdown",
   "metadata": {},
   "source": [
    "There are no quasi-constant features!"
   ]
  },
  {
   "cell_type": "markdown",
   "metadata": {},
   "source": [
    "#### 3.3 Remove duplicated features"
   ]
  },
  {
   "cell_type": "markdown",
   "metadata": {},
   "source": [
    "Duplicate features had absolutely no value and are therefore removed from the modeling dataset."
   ]
  },
  {
   "cell_type": "code",
   "execution_count": 79,
   "metadata": {},
   "outputs": [
    {
     "name": "stdout",
     "output_type": "stream",
     "text": [
      "0\n",
      "10\n"
     ]
    },
    {
     "data": {
      "text/plain": [
       "0"
      ]
     },
     "execution_count": 79,
     "metadata": {},
     "output_type": "execute_result"
    }
   ],
   "source": [
    "# check for duplicated features in the training set\n",
    "duplicated_feat = []\n",
    "for i in range(0, len(X_train.columns)):\n",
    "    if i % 10 == 0:  # this helps me understand how the loop is going\n",
    "        print(i)\n",
    " \n",
    "    col_1 = X_train.columns[i]\n",
    " \n",
    "    for col_2 in X_train.columns[i + 1:]:\n",
    "        if X_train[col_1].equals(X_train[col_2]):\n",
    "            duplicated_feat.append(col_2)\n",
    "            \n",
    "len(duplicated_feat)"
   ]
  },
  {
   "cell_type": "code",
   "execution_count": 80,
   "metadata": {},
   "outputs": [
    {
     "data": {
      "text/plain": [
       "((31647, 14), (13564, 14))"
      ]
     },
     "execution_count": 80,
     "metadata": {},
     "output_type": "execute_result"
    }
   ],
   "source": [
    "# remove duplicated features\n",
    "X_train.drop(labels=duplicated_feat, axis=1, inplace=True)\n",
    "X_test.drop(labels=duplicated_feat, axis=1, inplace=True)\n",
    " \n",
    "X_train.shape, X_test.shape"
   ]
  },
  {
   "cell_type": "markdown",
   "metadata": {},
   "source": [
    "Alas! There are no duplicate features"
   ]
  },
  {
   "cell_type": "code",
   "execution_count": 81,
   "metadata": {},
   "outputs": [],
   "source": [
    "# I keep a copy of the dataset except constant and duplicated variables\n",
    "# to measure the performance of machine learning models\n",
    "# at the end of the notebook\n",
    " \n",
    "X_train_basic_filter = X_train.copy()\n",
    "X_test_basic_filter = X_test.copy()"
   ]
  },
  {
   "cell_type": "markdown",
   "metadata": {},
   "source": [
    "#### 3.4 Remove correlated features"
   ]
  },
  {
   "cell_type": "markdown",
   "metadata": {},
   "source": [
    "Duplicate features are also removed as they provide no marginal information for model-buiding; and in fact may do more to harm than help.\n",
    "Variables that are highly collinear (closely related to each other) may cause some statistical modeling techniques to perform poorly. \n",
    "Therefore, it is wise to remove such variables from the modeling dataset. Please refer to [wikipedia](https://en.wikipedia.org/wiki/Multicollinearity) for more multicollinearity."
   ]
  },
  {
   "cell_type": "code",
   "execution_count": 82,
   "metadata": {},
   "outputs": [
    {
     "name": "stdout",
     "output_type": "stream",
     "text": [
      "correlated features:  0\n"
     ]
    }
   ],
   "source": [
    "# find and remove correlated features\n",
    "def correlation(dataset, threshold):\n",
    "    col_corr = set()  # Set of all the names of correlated columns\n",
    "    corr_matrix = dataset.corr()\n",
    "    for i in range(len(corr_matrix.columns)):\n",
    "        for j in range(i):\n",
    "            if abs(corr_matrix.iloc[i, j]) > threshold: # we are interested in absolute coeff value\n",
    "                colname = corr_matrix.columns[i]  # getting the name of column\n",
    "                col_corr.add(colname)\n",
    "    return col_corr\n",
    " \n",
    "corr_features = correlation(X_train, 0.8)\n",
    "print('correlated features: ', len(set(corr_features)) )"
   ]
  },
  {
   "cell_type": "code",
   "execution_count": 83,
   "metadata": {},
   "outputs": [
    {
     "data": {
      "text/plain": [
       "((31647, 14), (13564, 14))"
      ]
     },
     "execution_count": 83,
     "metadata": {},
     "output_type": "execute_result"
    }
   ],
   "source": [
    "# removed correlated  features\n",
    "X_train.drop(labels=corr_features, axis=1, inplace=True)\n",
    "X_test.drop(labels=corr_features, axis=1, inplace=True)\n",
    " \n",
    "X_train.shape, X_test.shape"
   ]
  },
  {
   "cell_type": "code",
   "execution_count": 84,
   "metadata": {},
   "outputs": [],
   "source": [
    "# keep a copy of the dataset at  this stage\n",
    "X_train_corr = X_train.copy()\n",
    "X_test_corr = X_test.copy()"
   ]
  },
  {
   "cell_type": "code",
   "execution_count": 85,
   "metadata": {},
   "outputs": [
    {
     "data": {
      "text/plain": [
       "(31647, 14)"
      ]
     },
     "execution_count": 85,
     "metadata": {},
     "output_type": "execute_result"
    }
   ],
   "source": [
    "X_train_corr.shape"
   ]
  },
  {
   "cell_type": "markdown",
   "metadata": {},
   "source": [
    "There are no highly correlated features either."
   ]
  },
  {
   "cell_type": "markdown",
   "metadata": {},
   "source": [
    "#### 3.5 Remove features using univariate ROC-AUC"
   ]
  },
  {
   "cell_type": "markdown",
   "metadata": {},
   "source": [
    "This process is used to extract features whose `roc` value is greater than 0.5 or 50%. Which means that group assignment based on those features is not based on random chance.\n",
    "See [wikipedia](https://en.wikipedia.org/wiki/Receiver_operating_characteristic) for more on the ROC( Receiver Operating Characteristic metric)."
   ]
  },
  {
   "cell_type": "code",
   "execution_count": 86,
   "metadata": {},
   "outputs": [],
   "source": [
    "# find important features using univariate roc-auc\n",
    " \n",
    "# loop to build a tree, make predictions and get the roc-auc\n",
    "# for each feature of the train set\n",
    " \n",
    "roc_values = []\n",
    "for feature in X_train.columns:\n",
    "    clf = DecisionTreeClassifier()\n",
    "    clf.fit(X_train[feature].fillna(0).to_frame(), y_train)\n",
    "    y_scored = clf.predict_proba(X_test[feature].fillna(0).to_frame())\n",
    "    roc_values.append(roc_auc_score(y_test, y_scored[:, 1]))"
   ]
  },
  {
   "cell_type": "code",
   "execution_count": 87,
   "metadata": {},
   "outputs": [
    {
     "data": {
      "text/plain": [
       "<matplotlib.axes._subplots.AxesSubplot at 0x1cf70ffd518>"
      ]
     },
     "execution_count": 87,
     "metadata": {},
     "output_type": "execute_result"
    },
    {
     "data": {
      "image/png": "[encoded data removed]",
      "text/plain": [
       "<Figure size 720x576 with 1 Axes>"
      ]
     },
     "metadata": {
      "needs_background": "light"
     },
     "output_type": "display_data"
    }
   ],
   "source": [
    "# let's add the variable names and order it for clearer visualisation\n",
    "roc_values = pd.Series(roc_values)\n",
    "roc_values.index = X_train.columns\n",
    "roc_values.sort_values(ascending=False).plot.bar(figsize=(10, 8))"
   ]
  },
  {
   "cell_type": "code",
   "execution_count": 88,
   "metadata": {},
   "outputs": [
    {
     "data": {
      "text/plain": [
       "(14, 14)"
      ]
     },
     "execution_count": 88,
     "metadata": {},
     "output_type": "execute_result"
    }
   ],
   "source": [
    "# by removing features with univariate roc_auc == 0.5\n",
    "# we remove another 1 feature\n",
    " \n",
    "selected_feat = roc_values[roc_values>0.5]\n",
    "len(selected_feat), X_train.shape[1]"
   ]
  },
  {
   "cell_type": "markdown",
   "metadata": {},
   "source": [
    "It appears that all the `14` remaining features all have `roc` values greater than <strong>0.5</strong> or <strong>50%</strong>; no features were removed for having `roc` values less than **50%**."
   ]
  },
  {
   "cell_type": "markdown",
   "metadata": {},
   "source": [
    "#### 3.6 Select features by the regression coefficients"
   ]
  },
  {
   "cell_type": "markdown",
   "metadata": {},
   "source": [
    "This process extracts features or predictors by their individal level of statistical significance;this is, if individually they are shown to be highly related to the `response` variable, manifested in low [p-values](https://en.wikipedia.org/wiki/P-value)."
   ]
  },
  {
   "cell_type": "code",
   "execution_count": 89,
   "metadata": {},
   "outputs": [
    {
     "data": {
      "text/plain": [
       "StandardScaler()"
      ]
     },
     "execution_count": 89,
     "metadata": {},
     "output_type": "execute_result"
    }
   ],
   "source": [
    "# Scaling features for the regression model\n",
    "scaler = StandardScaler()\n",
    "scaler.fit(X_train)"
   ]
  },
  {
   "cell_type": "markdown",
   "metadata": {},
   "source": [
    "This above object is used to scale features, i.e transforming their values with the [0,1] range. This is critical as some variables with value, such as income, may exert a disproportionate impact on certain statistical and machine learning algorithms, leading to sub-optimal performance.\n",
    "See this [article](https://en.wikipedia.org/wiki/Normalization_(statistics)) for more on standardizing features for modeling purposes."
   ]
  },
  {
   "cell_type": "code",
   "execution_count": 90,
   "metadata": {},
   "outputs": [],
   "source": [
    "# select features using the coefficient of a non\n",
    "# regularised logistic regression\n",
    " \n",
    "sel_ = SelectFromModel(LogisticRegression(C=1000))\n",
    "sel_.fit(scaler.transform(X_train), y_train)\n",
    " \n",
    "# remove features with zero coefficient from dataset\n",
    "# and parse again as dataframe (output of sklearn is\n",
    "# numpy array)\n",
    "X_train_coef = pd.DataFrame(sel_.transform(X_train))\n",
    "X_test_coef = pd.DataFrame(sel_.transform(X_test))\n",
    " \n",
    "# add the columns name\n",
    "X_train_coef.columns = X_train.columns[(sel_.get_support())]\n",
    "X_test_coef.columns = X_train.columns[(sel_.get_support())]"
   ]
  },
  {
   "cell_type": "code",
   "execution_count": 91,
   "metadata": {},
   "outputs": [
    {
     "data": {
      "text/plain": [
       "((31647, 5), (13564, 5))"
      ]
     },
     "execution_count": 91,
     "metadata": {},
     "output_type": "execute_result"
    }
   ],
   "source": [
    "X_train_coef.shape, X_test_coef.shape"
   ]
  },
  {
   "cell_type": "markdown",
   "metadata": {},
   "source": [
    "Notice above that only `5` features were found to have a statistically significant relationship with the `response` variable using Logistic Regression technique"
   ]
  },
  {
   "cell_type": "markdown",
   "metadata": {},
   "source": [
    "## Section 4 : Find the best `feature set` using the Random Forest Algorithm\n",
    "\n",
    "The *Random Forest* machine-learning algorithm is a tree-based technique;a conceptual description of the same technique can be found [here](https://www.statlearning.com/)."
   ]
  },
  {
   "cell_type": "code",
   "execution_count": 92,
   "metadata": {},
   "outputs": [],
   "source": [
    "# create a function to build random forests and compare performance in train and test set\n",
    " \n",
    "def run_randomForests(X_train, X_test, y_train, y_test):\n",
    "    rf = RandomForestClassifier(n_estimators=200, random_state=39, max_depth=4)\n",
    "    rf.fit(X_train, y_train)\n",
    "    print('Train set')\n",
    "    pred = rf.predict_proba(X_train)\n",
    "    print('Random Forests roc-auc: {}'.format(roc_auc_score(y_train, pred[:,1])))\n",
    "    print('Test set')\n",
    "    pred = rf.predict_proba(X_test)\n",
    "    print('Random Forests roc-auc: {}'.format(roc_auc_score(y_test, pred[:,1])))"
   ]
  },
  {
   "cell_type": "code",
   "execution_count": 93,
   "metadata": {},
   "outputs": [
    {
     "name": "stdout",
     "output_type": "stream",
     "text": [
      "Train set\n",
      "Random Forests roc-auc: 0.909552935857546\n",
      "Test set\n",
      "Random Forests roc-auc: 0.8985829903845123\n"
     ]
    }
   ],
   "source": [
    "# original data set\n",
    "run_randomForests(X_train_original,\n",
    "                  X_test_original,\n",
    "                  y_train, y_test)"
   ]
  },
  {
   "cell_type": "code",
   "execution_count": 94,
   "metadata": {},
   "outputs": [
    {
     "data": {
      "text/plain": [
       "(31647, 14)"
      ]
     },
     "execution_count": 94,
     "metadata": {},
     "output_type": "execute_result"
    }
   ],
   "source": [
    "X_train_original.shape"
   ]
  },
  {
   "cell_type": "code",
   "execution_count": 95,
   "metadata": {},
   "outputs": [
    {
     "name": "stdout",
     "output_type": "stream",
     "text": [
      "Train set\n",
      "Random Forests roc-auc: 0.9063740220140191\n",
      "Test set\n",
      "Random Forests roc-auc: 0.8929798793172854\n"
     ]
    }
   ],
   "source": [
    "# embedded methods - Logistic regression coefficients\n",
    "run_randomForests(X_train_coef,\n",
    "                  X_test_coef,\n",
    "                  y_train, y_test)"
   ]
  },
  {
   "cell_type": "code",
   "execution_count": 96,
   "metadata": {},
   "outputs": [
    {
     "data": {
      "text/plain": [
       "((31647, 5), (13564, 5))"
      ]
     },
     "execution_count": 96,
     "metadata": {},
     "output_type": "execute_result"
    }
   ],
   "source": [
    "X_train_coef.shape,X_test_coef.shape"
   ]
  },
  {
   "cell_type": "markdown",
   "metadata": {},
   "source": [
    "#### Note:\n",
    "Selecting features using the logistic regression coefficients (**5 features**) yields a performance only slightly worse than the performance with the original feature set(**14 features**),. This means that many of those 9 features are redundant, and the the original feature space can be reduced further without loosing performance significantly. Following the occam razor or [minimum description length principle](https://en.wikipedia.org/wiki/Minimum_description_length), I will adopt the `5-feature` set as the final set of predictors for further investigation."
   ]
  },
  {
   "cell_type": "markdown",
   "metadata": {},
   "source": [
    "## Section 5 : Build 10 Competing Models"
   ]
  },
  {
   "cell_type": "markdown",
   "metadata": {},
   "source": [
    "Having selected the original feature set as the most predictive candidate predictors,the next step involved using the same feature pool to estimate 10 different models leveraging a combination linear and non-linear classification algorithms.\n",
    "And the best performing algorithm is then selected using the average classification accuracy generated by the stratified 10-fold cross validation modeling technique.\n",
    "This will split our dataset into 10 parts, train on 9 and test on 1 and repeat for all combinations of train-test splits.\n",
    "Stratified means that each fold or split of the dataset will aim to have the same distribution of example by class as exist in the whole training dataset.\n",
    "For more on this technique, read this [article](https://machinelearningmastery.com/k-fold-cross-validation/)."
   ]
  },
  {
   "cell_type": "markdown",
   "metadata": {},
   "source": [
    "The 10 algorithms tested include:\n",
    "* Logistic Regression (LR)\n",
    "* Linear Discriminant Analysis (LDA)\n",
    "* K-Nearest Neighbors (KNN).\n",
    "* Classification and Regression Trees (CART).\n",
    "* Gaussian Naive Bayes (NB).\n",
    "* Support Vector Machines (SVM).\n",
    "* XGBoost(XGB).\n",
    "* Random Forest(RF).\n",
    "* AdaBoost(ADA)\n",
    "* Artificial Neural Network (ANN)\n",
    "\n",
    "This list represents a good mixture of simple linear (LR and LDA), nonlinear (KNN, CART, NB,SVM,XGB,RF,ADA and ANN) algorithms.\n",
    "For a comprehensive coverage of all algorithms used in this tutorial, I suggest reading the book titled [An Introduction to Statistical Learning](https://www.statlearning.com/)."
   ]
  },
  {
   "cell_type": "code",
   "execution_count": 97,
   "metadata": {
    "scrolled": false
   },
   "outputs": [
    {
     "name": "stdout",
     "output_type": "stream",
     "text": [
      "LR: 0.898221 (0.002387)\n",
      "LDA: 0.896957 (0.002754)\n",
      "KNN: 0.894966 (0.002893)\n",
      "CART: 0.884001 (0.004022)\n",
      "NB: 0.888236 (0.004498)\n",
      "SVM: 0.894208 (0.002267)\n",
      "XGB: 0.903687 (0.002523)\n",
      "RF: 0.888551 (0.005111)\n",
      "ADA: 0.900338 (0.002301)\n",
      "ANN: 0.902266 (0.003008)\n"
     ]
    },
    {
     "data": {
      "image/png": "[encoded data removed]",
      "text/plain": [
       "<Figure size 432x288 with 1 Axes>"
      ]
     },
     "metadata": {
      "needs_background": "light"
     },
     "output_type": "display_data"
    }
   ],
   "source": [
    "models = []\n",
    "models.append(('LR', LogisticRegression(solver='liblinear', multi_class='ovr')))\n",
    "models.append(('LDA', LinearDiscriminantAnalysis()))\n",
    "models.append(('KNN', KNeighborsClassifier()))\n",
    "models.append(('CART', DecisionTreeClassifier()))\n",
    "models.append(('NB', GaussianNB()))\n",
    "models.append(('SVM', SVC(gamma='auto')))\n",
    "models.append(('XGB', xgb.XGBClassifier(eval_metric='logloss')))\n",
    "models.append(('RF',RandomForestClassifier()))\n",
    "models.append(('ADA',AdaBoostClassifier()))\n",
    "models.append(('ANN',MLPClassifier(hidden_layer_sizes=(30,30,30))))\n",
    "# evaluate each model in turn\n",
    "results = []\n",
    "names = []\n",
    "for name, model in models:\n",
    "    kfold = StratifiedKFold(n_splits=10, random_state=1, shuffle=True)\n",
    "    cv_results = cross_val_score(model, X_train_coef, y_train, cv=kfold, scoring='accuracy')\n",
    "    results.append(cv_results)\n",
    "    names.append(name)\n",
    "    print('%s: %f (%f)' % (name, cv_results.mean(), cv_results.std()))\n",
    "# Compare Algorithms\n",
    "pyplot.boxplot(results, labels=names)\n",
    "pyplot.title('Algorithm Comparison')\n",
    "pyplot.show()"
   ]
  },
  {
   "cell_type": "markdown",
   "metadata": {},
   "source": [
    "#### 5.1 Select the Best of 10 Algorithms using Stratified 10-fold Cross Validation"
   ]
  },
  {
   "cell_type": "markdown",
   "metadata": {},
   "source": [
    "Now, we must choose an algorithm to be used for making predictions.\n",
    "\n",
    "The results reflected in the `box and whiskers` charts above suggest that the most accurate models are `XGB`,`ADA` and `ANN` based mean accuracy scores. We will carried forward these model in our tutorial for further analysis\n",
    "\n",
    "Now we want to get an idea of the accuracy of the model on our validation set.\n",
    "\n",
    "This will give us an independent final check on the accuracy of the best three models. It is valuable to keep a validation set just in case you made a slip during training, such as overfitting to the training set or a data leak. Both of these issues will result in an overly optimistic result. Eventually, one model will be selected (the most performant model judged by `accuracy` and other metrics such as the `precision`, `recall`, `F1 score` and `roc-auc`).\n",
    "\n",
    "This will give us an independent final check on the accuracy of the best two models. It is valuable to keep a validation set just in case you made a slip during training, such as overfitting to the training set or a data leak. Both of these issues will result in an overly optimistic result. Eventually, one model will be selected (the most performant model judged by `accuracy` and other metrics such as the `precision`, `recall`, `F1 score` and `roc-auc`).\n",
    "\n",
    "In the context of binary classification modeling, `accuracy` indicates the total number of observations from both classes that were classified correctly;of note, `accuracy` is not a good measure for unbalanced data as it does not reflect the performance of each class, particularly the class we are interested in, i.e the minority or positive class. The `recall`( sensitivity) measure indicates the total number of observations from the minority or positive class that was correctly classified or identified by the model; the `precsion` measure, on the other hand, tell us how many of total number of observations that were identified as belonging to the minority or positive class  that were actually positive or of the minority class. The `F1 score` is the weighted harmonic mean of the `precision` and `recall` scores; maximizing the `F1 score` ensures the optimization of the value of the `precision` measure relative to that of the `recall`. Finally, the `roc-auc` measure is the most used to evaluate the performance of classification algorithms.\n",
    "\n",
    "The `accuracy`, `precision` and `recall` and `roc-auc` scores vary between `0` and `1`, with <strong>1</strong> being the highest; the closer the value these measures is to **1**, the better is the performance of a classifier. In addition a `roc-auc` score of `0.5` is equivalent to the performance of a naive model based on random guessing; therefore, a classifier whose `roc-auc` is greater thjan `0.5`, is deemed to be better than merely guess randomly. A more comprehensive description of the `precision`, `recall` and `accuracy` metrics referenced above may be found [here](https://en.wikipedia.org/wiki/Sensitivity_and_specificity). "
   ]
  },
  {
   "cell_type": "markdown",
   "metadata": {},
   "source": [
    "## Section 6: Make Predictions and Evaluate Models"
   ]
  },
  {
   "cell_type": "markdown",
   "metadata": {},
   "source": [
    "Next, the models are fitted to the entire training dataset and predictions are made on the validation dataset."
   ]
  },
  {
   "cell_type": "code",
   "execution_count": 98,
   "metadata": {},
   "outputs": [
    {
     "name": "stdout",
     "output_type": "stream",
     "text": [
      "XGB's Accuracy is: 0.895975 \n",
      "[[11415   554]\n",
      " [  857   738]]\n",
      "              precision    recall  f1-score   support\n",
      "\n",
      "           0       0.93      0.95      0.94     11969\n",
      "           1       0.57      0.46      0.51      1595\n",
      "\n",
      "    accuracy                           0.90     13564\n",
      "   macro avg       0.75      0.71      0.73     13564\n",
      "weighted avg       0.89      0.90      0.89     13564\n",
      "\n"
     ]
    },
    {
     "data": {
      "image/png": "[encoded data removed]",
      "text/plain": [
       "<Figure size 432x288 with 1 Axes>"
      ]
     },
     "metadata": {
      "needs_background": "light"
     },
     "output_type": "display_data"
    },
    {
     "name": "stdout",
     "output_type": "stream",
     "text": [
      "ADA's Accuracy is: 0.895311 \n",
      "[[11605   364]\n",
      " [ 1056   539]]\n",
      "              precision    recall  f1-score   support\n",
      "\n",
      "           0       0.92      0.97      0.94     11969\n",
      "           1       0.60      0.34      0.43      1595\n",
      "\n",
      "    accuracy                           0.90     13564\n",
      "   macro avg       0.76      0.65      0.69     13564\n",
      "weighted avg       0.88      0.90      0.88     13564\n",
      "\n"
     ]
    },
    {
     "data": {
      "image/png": "[encoded data removed]",
      "text/plain": [
       "<Figure size 432x288 with 1 Axes>"
      ]
     },
     "metadata": {
      "needs_background": "light"
     },
     "output_type": "display_data"
    },
    {
     "name": "stdout",
     "output_type": "stream",
     "text": [
      "ANN's Accuracy is: 0.897228 \n",
      "[[11522   447]\n",
      " [  947   648]]\n",
      "              precision    recall  f1-score   support\n",
      "\n",
      "           0       0.92      0.96      0.94     11969\n",
      "           1       0.59      0.41      0.48      1595\n",
      "\n",
      "    accuracy                           0.90     13564\n",
      "   macro avg       0.76      0.68      0.71     13564\n",
      "weighted avg       0.88      0.90      0.89     13564\n",
      "\n"
     ]
    },
    {
     "data": {
      "image/png": "[encoded data removed]",
      "text/plain": [
       "<Figure size 432x288 with 1 Axes>"
      ]
     },
     "metadata": {
      "needs_background": "light"
     },
     "output_type": "display_data"
    }
   ],
   "source": [
    "# Testing the three models(XGB, ADA and ANN) on the validation/testing dataset to determine the best of the three models\n",
    "results_dict = {}\n",
    "models2 = []\n",
    "models2.append(('XGB', xgb.XGBClassifier(eval_metric='logloss')))\n",
    "models2.append(('ADA',AdaBoostClassifier()))\n",
    "models2.append(('ANN',MLPClassifier(hidden_layer_sizes=(30,30,30))))\n",
    "# evaluate each model in turn\n",
    "results2 = []\n",
    "names2 = []\n",
    "for name, model in models2:\n",
    "    model.fit(X_train_coef, y_train)\n",
    "    predictions = model.predict(X_test_coef)\n",
    "    results_dict[name]=accuracy_score(y_test, predictions)\n",
    "    results2.append(predictions)\n",
    "    names2.append(name)\n",
    "    print('%s\\'s Accuracy is: %f ' % (name, accuracy_score(y_test, predictions)))\n",
    "    # Evaluate predictions\n",
    "    print(confusion_matrix(y_test, predictions))\n",
    "    print(classification_report(y_test, predictions))\n",
    "    \n",
    "        # calculate roc curves\n",
    "    fpr, tpr, thresholds = metrics.roc_curve(y_test, predictions)\n",
    "    #thresholds\n",
    "    roc_auc = auc(fpr, tpr)\n",
    "    plt.title('Receiver Operating Characteristic')\n",
    "    plt.plot(fpr, tpr, 'b', label = 'AUC = %0.2f' % roc_auc)\n",
    "    plt.legend(loc = 'lower right')\n",
    "    plt.plot([0, 1], [0, 1],'r--')\n",
    "    plt.plot([0, 1], [0, 1], 'k--', label='Baseline')\n",
    "    plt.xlim([0, 1])\n",
    "    plt.ylim([0, 1])\n",
    "    plt.ylabel('True Positive Rate')\n",
    "    plt.xlabel('False Positive Rate')\n",
    "    plt.show()"
   ]
  },
  {
   "cell_type": "code",
   "execution_count": 99,
   "metadata": {},
   "outputs": [
    {
     "data": {
      "image/png": "[encoded data removed]",
      "text/plain": [
       "<Figure size 432x288 with 1 Axes>"
      ]
     },
     "metadata": {
      "needs_background": "light"
     },
     "output_type": "display_data"
    }
   ],
   "source": [
    "#Plotting the accuracy scores for the three models (XGB,ADA and ANN)\n",
    "pd.Series(results_dict).plot.bar()\n",
    "plt.title('Model Performace')\n",
    "plt.ylabel('Accuracy')\n",
    "#     plt.ylim(0.55, 0.9)\n",
    "plt.axhline(results_dict['ANN'], color='r')\n",
    "plt.show()"
   ]
  },
  {
   "cell_type": "markdown",
   "metadata": {},
   "source": [
    "As refelected above, the `XGB` model yields a moderately better performance than the other two model based on a superior `roc-auc` score of **71%** and the best balance of `precision` and `recall` scores. Therefore, we'll select the `XGB model` as our final model."
   ]
  },
  {
   "cell_type": "code",
   "execution_count": 100,
   "metadata": {},
   "outputs": [],
   "source": [
    "# extracting the models into a list\n",
    "models3 = []\n",
    "for name, model in models2:\n",
    "    models3.append(model)"
   ]
  },
  {
   "cell_type": "code",
   "execution_count": 101,
   "metadata": {},
   "outputs": [
    {
     "data": {
      "text/plain": [
       "[XGBClassifier(base_score=0.5, booster='gbtree', colsample_bylevel=1,\n",
       "               colsample_bynode=1, colsample_bytree=1, eval_metric='logloss',\n",
       "               gamma=0, gpu_id=-1, importance_type='gain',\n",
       "               interaction_constraints='', learning_rate=0.300000012,\n",
       "               max_delta_step=0, max_depth=6, min_child_weight=1, missing=nan,\n",
       "               monotone_constraints='()', n_estimators=100, n_jobs=4,\n",
       "               num_parallel_tree=1, random_state=0, reg_alpha=0, reg_lambda=1,\n",
       "               scale_pos_weight=1, subsample=1, tree_method='exact',\n",
       "               validate_parameters=1, verbosity=None),\n",
       " AdaBoostClassifier(),\n",
       " MLPClassifier(hidden_layer_sizes=(30, 30, 30))]"
      ]
     },
     "execution_count": 101,
     "metadata": {},
     "output_type": "execute_result"
    }
   ],
   "source": [
    "# Showing elements of the new list\n",
    "models3 "
   ]
  },
  {
   "cell_type": "code",
   "execution_count": 102,
   "metadata": {},
   "outputs": [],
   "source": [
    "# Extracting the XGB model from the list of model for further analysis\n",
    "XGB=models3[0]"
   ]
  },
  {
   "cell_type": "code",
   "execution_count": 103,
   "metadata": {},
   "outputs": [
    {
     "data": {
      "text/plain": [
       "XGBClassifier(base_score=0.5, booster='gbtree', colsample_bylevel=1,\n",
       "              colsample_bynode=1, colsample_bytree=1, eval_metric='logloss',\n",
       "              gamma=0, gpu_id=-1, importance_type='gain',\n",
       "              interaction_constraints='', learning_rate=0.300000012,\n",
       "              max_delta_step=0, max_depth=6, min_child_weight=1, missing=nan,\n",
       "              monotone_constraints='()', n_estimators=100, n_jobs=4,\n",
       "              num_parallel_tree=1, random_state=0, reg_alpha=0, reg_lambda=1,\n",
       "              scale_pos_weight=1, subsample=1, tree_method='exact',\n",
       "              validate_parameters=1, verbosity=None)"
      ]
     },
     "execution_count": 103,
     "metadata": {},
     "output_type": "execute_result"
    }
   ],
   "source": [
    "# Sanity Check\n",
    "XGB"
   ]
  },
  {
   "cell_type": "markdown",
   "metadata": {},
   "source": [
    "#### 6.1 Discrimination Threshold Tuning"
   ]
  },
  {
   "cell_type": "markdown",
   "metadata": {},
   "source": [
    "Next, we will need to optimise or fine tune the binary discrimination (threshold or the probability cutoff for classifying observations between the two classes), in order to optimise the `precision`, `recall` and `F-scores`.\n",
    "[\"The decision for converting a predicted probability or scoring into a class label is governed by a parameter referred to as the 'decision threshold,' 'discrimination threshold,'or simply the 'threshold.' The default value for the threshold is 0.5 for normalized predicted probabilities or scores in the range between 0 or 1\"](https://machinelearningmastery.com/threshold-moving-for-imbalanced-classification/).\n",
    "\n",
    "However,the 0.5 default probability cutoff is not appropriate for imblanced datasets. Therefore, I needed to determine the appropriate cutoff probability for the data that will optimize the performance of our XGB model.\n",
    "The optimal cutoff for the data is one that will maximize the F-score and thereby optimizing the `precision` and `recall` scores.\n",
    "The python [DiscriminationThreshold](https://www.scikit-yb.org/en/latest/api/classifier/threshold.html) object of the `yellowbrick` module can be used to compute the optimal cutoff probability or threshold for our imbalance dataset."
   ]
  },
  {
   "cell_type": "code",
   "execution_count": 104,
   "metadata": {},
   "outputs": [
    {
     "data": {
      "image/png": "[encoded data removed]",
      "text/plain": [
       "<Figure size 432x288 with 1 Axes>"
      ]
     },
     "metadata": {
      "needs_background": "light"
     },
     "output_type": "display_data"
    },
    {
     "data": {
      "text/plain": [
       "<matplotlib.axes._subplots.AxesSubplot at 0x1cf71a8c048>"
      ]
     },
     "execution_count": 104,
     "metadata": {},
     "output_type": "execute_result"
    }
   ],
   "source": [
    "# Finding the optimal threshold\n",
    "\n",
    "visualizer = DiscriminationThreshold(XGB,\n",
    "                                         n_trials=1,\n",
    "                                         cv=0.5,\n",
    "                                         argmax='fscore',\n",
    "                                         random_state=0,\n",
    "                                         is_fitted='auto',\n",
    "                                         exclude = \"queue_rate\")\n",
    "\n",
    "visualizer.fit(X_train_coef, y_train)        # Fit the visualizer and the model\n",
    "visualizer.score(X_test_coef, y_test)        # Evaluate the model on the test data\n",
    "visualizer.show()\n"
   ]
  },
  {
   "cell_type": "code",
   "execution_count": 105,
   "metadata": {},
   "outputs": [],
   "source": [
    "# Implementing the optimized cutoff threshold of 0.29 in the classification routine.\n",
    "threshold = 0.29\n",
    "XGB_Grid_ytest_THR = ((models3[0].predict_proba(X_test_coef)[:, 1])>= threshold).astype(int)"
   ]
  },
  {
   "cell_type": "code",
   "execution_count": 106,
   "metadata": {},
   "outputs": [
    {
     "name": "stdout",
     "output_type": "stream",
     "text": [
      "Valuation for test data only:\n",
      "[[11415   554]\n",
      " [  857   738]]\n",
      "              precision    recall  f1-score   support\n",
      "\n",
      "           0       0.93      0.95      0.94     11969\n",
      "           1       0.57      0.46      0.51      1595\n",
      "\n",
      "    accuracy                           0.90     13564\n",
      "   macro avg       0.75      0.71      0.73     13564\n",
      "weighted avg       0.89      0.90      0.89     13564\n",
      "\n",
      "----------------------------------------------------------------------\n",
      "[[10819  1150]\n",
      " [  459  1136]]\n",
      "Valuation for test data only  (new_threshold):\n",
      "              precision    recall  f1-score   support\n",
      "\n",
      "           0       0.96      0.90      0.93     11969\n",
      "           1       0.50      0.71      0.59      1595\n",
      "\n",
      "    accuracy                           0.88     13564\n",
      "   macro avg       0.73      0.81      0.76     13564\n",
      "weighted avg       0.90      0.88      0.89     13564\n",
      "\n"
     ]
    }
   ],
   "source": [
    "print('Valuation for test data only:')\n",
    "print(confusion_matrix(y_test, models3[0].predict(X_test_coef)))\n",
    "print(classification_report(y_test, models3[0].predict(X_test_coef)))\n",
    "print(\"----------------------------------------------------------------------\")\n",
    "print(confusion_matrix(y_test, XGB_Grid_ytest_THR))\n",
    "print('Valuation for test data only  (new_threshold):')\n",
    "print(classification_report(y_test, XGB_Grid_ytest_THR))"
   ]
  },
  {
   "cell_type": "markdown",
   "metadata": {},
   "source": [
    "as evidenced above, the `recall` and `F-score` improved with the implementation of the new threshold;however, the `precison` score degraded slightly, going from **0.57** to **0.50**.\n",
    "Overall, the optimised threshold yielded an improvement in performance."
   ]
  },
  {
   "cell_type": "code",
   "execution_count": 107,
   "metadata": {},
   "outputs": [],
   "source": [
    "fpr, tpr, thresholds = metrics.roc_curve(y_test, XGB_Grid_ytest_THR)\n",
    "#thresholds"
   ]
  },
  {
   "cell_type": "code",
   "execution_count": 108,
   "metadata": {},
   "outputs": [
    {
     "data": {
      "image/png": "[encoded data removed]",
      "text/plain": [
       "<Figure size 432x288 with 1 Axes>"
      ]
     },
     "metadata": {
      "needs_background": "light"
     },
     "output_type": "display_data"
    }
   ],
   "source": [
    "roc_auc = auc(fpr, tpr)\n",
    "plt.title('Receiver Operating Characteristic')\n",
    "plt.plot(fpr, tpr, 'b', label = 'AUC = %0.2f' % roc_auc)\n",
    "plt.legend(loc = 'lower right')\n",
    "plt.plot([0, 1], [0, 1],'r--')\n",
    "plt.plot([0, 1], [0, 1], 'k--', label='Baseline')\n",
    "plt.xlim([0, 1])\n",
    "plt.ylim([0, 1])\n",
    "plt.ylabel('True Positive Rate')\n",
    "plt.xlabel('False Positive Rate')\n",
    "plt.show()"
   ]
  },
  {
   "cell_type": "markdown",
   "metadata": {},
   "source": [
    "Notice that the `roc-auc` score improved with the optimization of the `discrimination` thresold."
   ]
  },
  {
   "cell_type": "markdown",
   "metadata": {},
   "source": [
    "#### 6.2 Calculating Lift Score\n",
    "*Lift measures the degree to which the predictions of a classification model are better than randomly-generated predictions.*"
   ]
  },
  {
   "cell_type": "code",
   "execution_count": 109,
   "metadata": {},
   "outputs": [
    {
     "data": {
      "text/plain": [
       "4.225997142206754"
      ]
     },
     "execution_count": 109,
     "metadata": {},
     "output_type": "execute_result"
    }
   ],
   "source": [
    "from mlxtend.evaluate import lift_score\n",
    "lift_score(y_test, XGB_Grid_ytest_THR)"
   ]
  },
  {
   "cell_type": "markdown",
   "metadata": {},
   "source": [
    "Also, it is note worthy that the `XGB` model has a lift of approx. **4.23** , which means that the predictions of this classification is **4** times better than randomly-generated predictions"
   ]
  },
  {
   "cell_type": "markdown",
   "metadata": {},
   "source": [
    "#### 6.3 Feature of Importance\n",
    "We examine the top features using the `XGB` model\n"
   ]
  },
  {
   "cell_type": "code",
   "execution_count": 110,
   "metadata": {},
   "outputs": [
    {
     "data": {
      "image/png": "[encoded data removed]",
      "text/plain": [
       "<Figure size 864x432 with 1 Axes>"
      ]
     },
     "metadata": {
      "needs_background": "light"
     },
     "output_type": "display_data"
    }
   ],
   "source": [
    "for name, model in models2:\n",
    "    if name == 'XGB':\n",
    "        importance = pd.Series(model.feature_importances_)\n",
    "        importance.index = X_train_coef.columns\n",
    "        importance.sort_values(inplace=True, ascending=False)\n",
    "        importance.plot.bar(figsize=(12,6))"
   ]
  },
  {
   "cell_type": "markdown",
   "metadata": {},
   "source": [
    "#### 6.4 Conclusion"
   ]
  },
  {
   "cell_type": "markdown",
   "metadata": {},
   "source": [
    "The goal of the project is to provide a step-by-step tutorial/work flow around the estimation of a machine-learning model aimed at predicting likelihood of a client or prospective client subscribing(opening) to a term deposit. I estimated **10** models and the `XGBoost (XGB)` model emerged as the superior model based on  on a superior `roc-auc` score of **71%** and the best balance of `precision` and `recall` scores; further, the `XGB` model yielded a lift of approx. **4.23** , which means that the predictions of this classification is **4** times better than randomly-generated predictions.\n",
    "\n",
    "Notably, the **5** most important predictors of whether a client will subscribe to a term deposit, in order of importance are given below :\n",
    "\n",
    "1. `poutcome`: outcome of the previous marketing campaign (categorical: 'failure','nonexistent','success').\n",
    "2. `contact`: contact communication type (categorical: 'cellular','telephone').\n",
    "3. `duration`: last contact duration, in seconds (numeric).\n",
    "4. `month`: last contact month of year (categorical: 'jan', 'feb', 'mar', ..., 'nov', 'dec').\n",
    "5. `housing`: has housing loan? (categorical: 'no','yes','unknown').\n",
    "\n",
    "    \n",
    "`Note`: A limitation of the `Feature of Importance` chart is that it only ranks the features in order of their relative predictive power; it does not provide any insight into the direction of the relationship between the predictors and the outcome of importance (i.e. the response or dependent variable); also, for categorical variables, the feature of importance chart does not tell us which category is predictive of the desired behavioral outcome.\n",
    "        "
   ]
  },
  {
   "cell_type": "code",
   "execution_count": null,
   "metadata": {},
   "outputs": [],
   "source": []
  }
 ],
 "metadata": {
  "kernelspec": {
   "display_name": "Python 3",
   "language": "python",
   "name": "python3"
  },
  "language_info": {
   "codemirror_mode": {
    "name": "ipython",
    "version": 3
   },
   "file_extension": ".py",
   "mimetype": "text/x-python",
   "name": "python",
   "nbconvert_exporter": "python",
   "pygments_lexer": "ipython3",
   "version": "3.7.1"
  }
 },
 "nbformat": 4,
 "nbformat_minor": 2
}
